{
  "cells": [
    {
      "cell_type": "markdown",
      "metadata": {
        "id": "view-in-github",
        "colab_type": "text"
      },
      "source": [
        "<a href=\"https://colab.research.google.com/github/prakHr/Clickstream-Data-Visualization-on-raw-customer-dataset/blob/main/Copy_of_11_ImageNet_advanced.ipynb\" target=\"_parent\"><img src=\"https://colab.research.google.com/assets/colab-badge.svg\" alt=\"Open In Colab\"/></a>"
      ]
    },
    {
      "cell_type": "markdown",
      "metadata": {
        "id": "X785ujj3xaAA"
      },
      "source": [
        "# Evasion Attacks on ImageNet (Computer Vision)\n",
        "\n",
        "We show here how to run different evasion attacks against ResNet-18, \n",
        "a DNN pretrained on ImageNet. This notebook enables running also \n",
        "CleverHans attacks (implemented in TensorFlow) against PyTorch models.\n",
        "\n",
        "We aim to have the image of a race car misclassified as a tiger, \n",
        "using the $\\ell_2$-norm targeted implementations of the Carlini-Wagner (CW) \n",
        "attack (from CleverHans), and of our PGD attack. \n",
        "\n",
        "We also consider a variant of our PGD attack, referred to as PGD-patch, \n",
        "where we restrict the attacker to only change the pixels of the image \n",
        "corresponding to the license plate, using a box constraint (see Melis et al., \n",
        "*Is Deep Learning Safe for Robot Vision? Adversarial Examples against the iCub Humanoid*, \n",
        "ICCVW ViPAR 2017, https://arxiv.org/abs/1708.06939).\n",
        "\n",
        "[![Open In Colab](https://colab.research.google.com/assets/colab-badge.svg)](\n",
        "https://colab.research.google.com/github/pralab/secml/blob/HEAD/tutorials/11-ImageNet_advanced.ipynb)\n",
        "\n",
        "<div class=\"alert alert-warning\">\n",
        "\n",
        "**Warning**\n",
        "\n",
        "Requires installation of the `pytorch` extra dependency.\n",
        "See [extra components](../index.rst#extra-components) for more information.\n",
        "\n",
        "</div>"
      ]
    },
    {
      "cell_type": "code",
      "source": [
        "!pip install jupyter-dash\n",
        "\n",
        "import plotly.express as px\n",
        "from jupyter_dash import JupyterDash\n",
        "import dash_core_components as dcc\n",
        "import dash_html_components as html\n",
        "from dash.dependencies import Input, Output\n",
        "# Load Data\n",
        "# df = px.data.tips()\n",
        "# # Build App\n",
        "# app = JupyterDash(__name__)\n",
        "# app.layout = html.Div([\n",
        "#     html.H1(\"JupyterDash Demo\"),\n",
        "#     dcc.Graph(id='graph'),\n",
        "#     html.Label([\n",
        "#         \"colorscale\",\n",
        "#         dcc.Dropdown(\n",
        "#             id='colorscale-dropdown', clearable=False,\n",
        "#             value='plasma', options=[\n",
        "#                 {'label': c, 'value': c}\n",
        "#                 for c in px.colors.named_colorscales()\n",
        "#             ])\n",
        "#     ]),\n",
        "# ])\n",
        "# # Define callback to update graph\n",
        "# @app.callback(\n",
        "#     Output('graph', 'figure'),\n",
        "#     [Input(\"colorscale-dropdown\", \"value\")]\n",
        "# )\n",
        "# def update_figure(colorscale):\n",
        "#     return px.scatter(\n",
        "#         df, x=\"total_bill\", y=\"tip\", color=\"size\",\n",
        "#         color_continuous_scale=colorscale,\n",
        "#         render_mode=\"webgl\", title=\"Tips\"\n",
        "#     )\n",
        "# # Run app and display result inline in the notebook\n",
        "# app.run_server(mode='inline')"
      ],
      "metadata": {
        "colab": {
          "base_uri": "https://localhost:8080/",
          "height": 1000
        },
        "id": "lRkaTS-DaUxd",
        "outputId": "7b65c0c7-b8c3-47bb-8dcf-b35e11a91c23"
      },
      "execution_count": null,
      "outputs": [
        {
          "output_type": "stream",
          "name": "stdout",
          "text": [
            "Looking in indexes: https://pypi.org/simple, https://us-python.pkg.dev/colab-wheels/public/simple/\n",
            "Collecting jupyter-dash\n",
            "  Downloading jupyter_dash-0.4.2-py3-none-any.whl (23 kB)\n",
            "Requirement already satisfied: ipython in /usr/local/lib/python3.8/dist-packages (from jupyter-dash) (7.9.0)\n",
            "Collecting ansi2html\n",
            "  Downloading ansi2html-1.8.0-py3-none-any.whl (16 kB)\n",
            "Collecting nest-asyncio\n",
            "  Downloading nest_asyncio-1.5.6-py3-none-any.whl (5.2 kB)\n",
            "Collecting dash\n",
            "  Downloading dash-2.8.1-py3-none-any.whl (9.9 MB)\n",
            "\u001b[2K     \u001b[90m━━━━━━━━━━━━━━━━━━━━━━━━━━━━━━━━━━━━━━━━\u001b[0m \u001b[32m9.9/9.9 MB\u001b[0m \u001b[31m53.3 MB/s\u001b[0m eta \u001b[36m0:00:00\u001b[0m\n",
            "\u001b[?25hRequirement already satisfied: requests in /usr/local/lib/python3.8/dist-packages (from jupyter-dash) (2.25.1)\n",
            "Collecting retrying\n",
            "  Downloading retrying-1.3.4-py3-none-any.whl (11 kB)\n",
            "Requirement already satisfied: flask in /usr/local/lib/python3.8/dist-packages (from jupyter-dash) (1.1.4)\n",
            "Requirement already satisfied: ipykernel in /usr/local/lib/python3.8/dist-packages (from jupyter-dash) (5.3.4)\n",
            "Requirement already satisfied: plotly>=5.0.0 in /usr/local/lib/python3.8/dist-packages (from dash->jupyter-dash) (5.5.0)\n",
            "Collecting dash-table==5.0.0\n",
            "  Downloading dash_table-5.0.0-py3-none-any.whl (3.9 kB)\n",
            "Collecting dash-core-components==2.0.0\n",
            "  Downloading dash_core_components-2.0.0-py3-none-any.whl (3.8 kB)\n",
            "Collecting dash-html-components==2.0.0\n",
            "  Downloading dash_html_components-2.0.0-py3-none-any.whl (4.1 kB)\n",
            "Requirement already satisfied: Jinja2<3.0,>=2.10.1 in /usr/local/lib/python3.8/dist-packages (from flask->jupyter-dash) (2.11.3)\n",
            "Requirement already satisfied: itsdangerous<2.0,>=0.24 in /usr/local/lib/python3.8/dist-packages (from flask->jupyter-dash) (1.1.0)\n",
            "Requirement already satisfied: click<8.0,>=5.1 in /usr/local/lib/python3.8/dist-packages (from flask->jupyter-dash) (7.1.2)\n",
            "Requirement already satisfied: Werkzeug<2.0,>=0.15 in /usr/local/lib/python3.8/dist-packages (from flask->jupyter-dash) (1.0.1)\n",
            "Requirement already satisfied: jupyter-client in /usr/local/lib/python3.8/dist-packages (from ipykernel->jupyter-dash) (6.1.12)\n",
            "Requirement already satisfied: traitlets>=4.1.0 in /usr/local/lib/python3.8/dist-packages (from ipykernel->jupyter-dash) (5.7.1)\n",
            "Requirement already satisfied: tornado>=4.2 in /usr/local/lib/python3.8/dist-packages (from ipykernel->jupyter-dash) (6.0.4)\n",
            "Requirement already satisfied: prompt-toolkit<2.1.0,>=2.0.0 in /usr/local/lib/python3.8/dist-packages (from ipython->jupyter-dash) (2.0.10)\n",
            "Requirement already satisfied: pygments in /usr/local/lib/python3.8/dist-packages (from ipython->jupyter-dash) (2.6.1)\n",
            "Requirement already satisfied: setuptools>=18.5 in /usr/local/lib/python3.8/dist-packages (from ipython->jupyter-dash) (57.4.0)\n",
            "Requirement already satisfied: pickleshare in /usr/local/lib/python3.8/dist-packages (from ipython->jupyter-dash) (0.7.5)\n",
            "Requirement already satisfied: pexpect in /usr/local/lib/python3.8/dist-packages (from ipython->jupyter-dash) (4.8.0)\n",
            "Requirement already satisfied: decorator in /usr/local/lib/python3.8/dist-packages (from ipython->jupyter-dash) (4.4.2)\n",
            "Requirement already satisfied: backcall in /usr/local/lib/python3.8/dist-packages (from ipython->jupyter-dash) (0.2.0)\n",
            "Collecting jedi>=0.10\n",
            "  Downloading jedi-0.18.2-py2.py3-none-any.whl (1.6 MB)\n",
            "\u001b[2K     \u001b[90m━━━━━━━━━━━━━━━━━━━━━━━━━━━━━━━━━━━━━━━━\u001b[0m \u001b[32m1.6/1.6 MB\u001b[0m \u001b[31m52.2 MB/s\u001b[0m eta \u001b[36m0:00:00\u001b[0m\n",
            "\u001b[?25hRequirement already satisfied: chardet<5,>=3.0.2 in /usr/local/lib/python3.8/dist-packages (from requests->jupyter-dash) (4.0.0)\n",
            "Requirement already satisfied: certifi>=2017.4.17 in /usr/local/lib/python3.8/dist-packages (from requests->jupyter-dash) (2022.12.7)\n",
            "Requirement already satisfied: idna<3,>=2.5 in /usr/local/lib/python3.8/dist-packages (from requests->jupyter-dash) (2.10)\n",
            "Requirement already satisfied: urllib3<1.27,>=1.21.1 in /usr/local/lib/python3.8/dist-packages (from requests->jupyter-dash) (1.24.3)\n",
            "Requirement already satisfied: six>=1.7.0 in /usr/local/lib/python3.8/dist-packages (from retrying->jupyter-dash) (1.15.0)\n",
            "Requirement already satisfied: parso<0.9.0,>=0.8.0 in /usr/local/lib/python3.8/dist-packages (from jedi>=0.10->ipython->jupyter-dash) (0.8.3)\n",
            "Requirement already satisfied: MarkupSafe>=0.23 in /usr/local/lib/python3.8/dist-packages (from Jinja2<3.0,>=2.10.1->flask->jupyter-dash) (2.0.1)\n",
            "Requirement already satisfied: tenacity>=6.2.0 in /usr/local/lib/python3.8/dist-packages (from plotly>=5.0.0->dash->jupyter-dash) (8.2.0)\n",
            "Requirement already satisfied: wcwidth in /usr/local/lib/python3.8/dist-packages (from prompt-toolkit<2.1.0,>=2.0.0->ipython->jupyter-dash) (0.2.6)\n",
            "Requirement already satisfied: python-dateutil>=2.1 in /usr/local/lib/python3.8/dist-packages (from jupyter-client->ipykernel->jupyter-dash) (2.8.2)\n",
            "Requirement already satisfied: pyzmq>=13 in /usr/local/lib/python3.8/dist-packages (from jupyter-client->ipykernel->jupyter-dash) (23.2.1)\n",
            "Requirement already satisfied: jupyter-core>=4.6.0 in /usr/local/lib/python3.8/dist-packages (from jupyter-client->ipykernel->jupyter-dash) (5.2.0)\n",
            "Requirement already satisfied: ptyprocess>=0.5 in /usr/local/lib/python3.8/dist-packages (from pexpect->ipython->jupyter-dash) (0.7.0)\n",
            "Requirement already satisfied: platformdirs>=2.5 in /usr/local/lib/python3.8/dist-packages (from jupyter-core>=4.6.0->jupyter-client->ipykernel->jupyter-dash) (3.0.0)\n",
            "Installing collected packages: dash-table, dash-html-components, dash-core-components, retrying, nest-asyncio, jedi, ansi2html, dash, jupyter-dash\n",
            "Successfully installed ansi2html-1.8.0 dash-2.8.1 dash-core-components-2.0.0 dash-html-components-2.0.0 dash-table-5.0.0 jedi-0.18.2 jupyter-dash-0.4.2 nest-asyncio-1.5.6 retrying-1.3.4\n"
          ]
        },
        {
          "output_type": "stream",
          "name": "stderr",
          "text": [
            "<ipython-input-1-83ae2ca0fff2>:5: UserWarning: \n",
            "The dash_core_components package is deprecated. Please replace\n",
            "`import dash_core_components as dcc` with `from dash import dcc`\n",
            "  import dash_core_components as dcc\n",
            "<ipython-input-1-83ae2ca0fff2>:6: UserWarning: \n",
            "The dash_html_components package is deprecated. Please replace\n",
            "`import dash_html_components as html` with `from dash import html`\n",
            "  import dash_html_components as html\n"
          ]
        }
      ]
    },
    {
      "cell_type": "code",
      "execution_count": null,
      "metadata": {
        "id": "CHPpOF35xaAE"
      },
      "outputs": [],
      "source": [
        "%%capture --no-stderr --no-display\n",
        "# NBVAL_IGNORE_OUTPUT\n",
        "\n",
        "try:\n",
        "  import secml\n",
        "  import torch\n",
        "except ImportError:\n",
        "  %pip install git+https://github.com/pralab/secml#egg=secml[pytorch]"
      ]
    },
    {
      "cell_type": "markdown",
      "metadata": {
        "id": "Bd6lcslxxaAF"
      },
      "source": [
        "## Load data\n",
        "We start by loading the pre-trained ResNet18 model from `torchvision`, \n",
        "and we pass it to the `SecML` wrapper.  Then, we load the ImageNet labels."
      ]
    },
    {
      "cell_type": "code",
      "execution_count": null,
      "metadata": {
        "id": "wMlEQuKexaAF",
        "outputId": "c49a8106-4d4e-41f7-9f1a-476dde2e38a9",
        "colab": {
          "base_uri": "https://localhost:8080/",
          "height": 156,
          "referenced_widgets": [
            "da8eb1a55d0941c484b7666a3bb89747",
            "16996c65a5ab488f8a05f7cbe00e5283",
            "cd00a6cac0394a7fb81d2d1d45fafe77",
            "a7bf510542ee4f31980636fe5485e98f",
            "82f1e534e8164a44b5ff383728914a71",
            "bace4521a8c64f989943400ad98de55c",
            "cb0d755b45434dedad33a446fa51d779",
            "ba00ce1815e345d89f4d79ee6ef6103a",
            "fff3a8074b2542d8ab4bd197a6a435e7",
            "b0245d3f1a56422f8380c3308bf293c9",
            "230f1151155f4fce804833e8182c0b75"
          ]
        }
      },
      "outputs": [
        {
          "output_type": "stream",
          "name": "stderr",
          "text": [
            "/usr/local/lib/python3.8/dist-packages/torchvision/models/_utils.py:208: UserWarning: The parameter 'pretrained' is deprecated since 0.13 and may be removed in the future, please use 'weights' instead.\n",
            "  warnings.warn(\n",
            "/usr/local/lib/python3.8/dist-packages/torchvision/models/_utils.py:223: UserWarning: Arguments other than a weight enum or `None` for 'weights' are deprecated since 0.13 and may be removed in the future. The current behavior is equivalent to passing `weights=ResNet18_Weights.IMAGENET1K_V1`. You can also use `weights=ResNet18_Weights.DEFAULT` to get the most up-to-date weights.\n",
            "  warnings.warn(msg)\n",
            "Downloading: \"https://download.pytorch.org/models/resnet18-f37072fd.pth\" to /root/.cache/torch/hub/checkpoints/resnet18-f37072fd.pth\n"
          ]
        },
        {
          "output_type": "display_data",
          "data": {
            "text/plain": [
              "  0%|          | 0.00/44.7M [00:00<?, ?B/s]"
            ],
            "application/vnd.jupyter.widget-view+json": {
              "version_major": 2,
              "version_minor": 0,
              "model_id": "da8eb1a55d0941c484b7666a3bb89747"
            }
          },
          "metadata": {}
        }
      ],
      "source": [
        "# NBVAL_IGNORE_OUTPUT\n",
        "from torchvision import models\n",
        "\n",
        "# Download and cache pretrained model from PyTorch model zoo\n",
        "model = models.resnet18(pretrained=True)"
      ]
    },
    {
      "cell_type": "code",
      "execution_count": null,
      "metadata": {
        "id": "NqncUJdNxaAG",
        "colab": {
          "base_uri": "https://localhost:8080/"
        },
        "outputId": "01c42d8d-eefd-4a56-d4b9-ace11818f8be"
      },
      "outputs": [
        {
          "output_type": "stream",
          "name": "stdout",
          "text": [
            "2023-02-16 13:39:58,032 - secml.settings - INFO - New `SECML_HOME_DIR` created: /root/secml-data\n",
            "2023-02-16 13:39:58,032 - secml.settings - INFO - New `SECML_HOME_DIR` created: /root/secml-data\n"
          ]
        },
        {
          "output_type": "stream",
          "name": "stderr",
          "text": [
            "INFO:secml.settings:New `SECML_HOME_DIR` created: /root/secml-data\n"
          ]
        },
        {
          "output_type": "stream",
          "name": "stdout",
          "text": [
            "2023-02-16 13:39:58,042 - secml.settings - INFO - Default configuration file copied to: /root/secml-data/secml.conf\n",
            "2023-02-16 13:39:58,042 - secml.settings - INFO - Default configuration file copied to: /root/secml-data/secml.conf\n"
          ]
        },
        {
          "output_type": "stream",
          "name": "stderr",
          "text": [
            "INFO:secml.settings:Default configuration file copied to: /root/secml-data/secml.conf\n"
          ]
        },
        {
          "output_type": "stream",
          "name": "stdout",
          "text": [
            "2023-02-16 13:39:58,051 - secml.settings - INFO - New `SECML_DS_DIR` created: /root/secml-data/datasets\n",
            "2023-02-16 13:39:58,051 - secml.settings - INFO - New `SECML_DS_DIR` created: /root/secml-data/datasets\n"
          ]
        },
        {
          "output_type": "stream",
          "name": "stderr",
          "text": [
            "INFO:secml.settings:New `SECML_DS_DIR` created: /root/secml-data/datasets\n"
          ]
        },
        {
          "output_type": "stream",
          "name": "stdout",
          "text": [
            "2023-02-16 13:39:58,059 - secml.settings - INFO - New `SECML_MODELS_DIR` created: /root/secml-data/models\n",
            "2023-02-16 13:39:58,059 - secml.settings - INFO - New `SECML_MODELS_DIR` created: /root/secml-data/models\n"
          ]
        },
        {
          "output_type": "stream",
          "name": "stderr",
          "text": [
            "INFO:secml.settings:New `SECML_MODELS_DIR` created: /root/secml-data/models\n"
          ]
        },
        {
          "output_type": "stream",
          "name": "stdout",
          "text": [
            "2023-02-16 13:39:58,065 - secml.settings - INFO - New `SECML_EXP_DIR` created: /root/secml-data/experiments\n",
            "2023-02-16 13:39:58,065 - secml.settings - INFO - New `SECML_EXP_DIR` created: /root/secml-data/experiments\n"
          ]
        },
        {
          "output_type": "stream",
          "name": "stderr",
          "text": [
            "INFO:secml.settings:New `SECML_EXP_DIR` created: /root/secml-data/experiments\n"
          ]
        },
        {
          "output_type": "stream",
          "name": "stdout",
          "text": [
            "2023-02-16 13:39:58,070 - secml.settings - INFO - New `SECML_LOGS_DIR` created: /root/secml-data/logs\n",
            "2023-02-16 13:39:58,070 - secml.settings - INFO - New `SECML_LOGS_DIR` created: /root/secml-data/logs\n"
          ]
        },
        {
          "output_type": "stream",
          "name": "stderr",
          "text": [
            "INFO:secml.settings:New `SECML_LOGS_DIR` created: /root/secml-data/logs\n"
          ]
        },
        {
          "output_type": "stream",
          "name": "stdout",
          "text": [
            "2023-02-16 13:39:58,076 - secml.settings - INFO - New `SECML_PYTORCH_DIR` created: /root/secml-data/pytorch-data\n",
            "2023-02-16 13:39:58,076 - secml.settings - INFO - New `SECML_PYTORCH_DIR` created: /root/secml-data/pytorch-data\n"
          ]
        },
        {
          "output_type": "stream",
          "name": "stderr",
          "text": [
            "INFO:secml.settings:New `SECML_PYTORCH_DIR` created: /root/secml-data/pytorch-data\n"
          ]
        }
      ],
      "source": [
        "import io\n",
        "\n",
        "import numpy as np\n",
        "import requests\n",
        "import torch\n",
        "\n",
        "from secml.ml.classifiers import CClassifierPyTorch\n",
        "from secml.ml.features import CNormalizerMeanStd\n",
        "\n",
        "# Set random seed for pytorch and numpy\n",
        "np.random.seed(0)\n",
        "torch.manual_seed(0)\n",
        "\n",
        "# imagenet normalization\n",
        "normalizer = CNormalizerMeanStd(mean=(0.485, 0.456, 0.406),\n",
        "                                std=(0.229, 0.224, 0.225))\n",
        "\n",
        "# wrap the model, including the normalizer\n",
        "clf = CClassifierPyTorch(model=model,\n",
        "                         input_shape=(3, 224, 224),\n",
        "                         softmax_outputs=False,\n",
        "                         preprocess=normalizer,\n",
        "                         random_state=0,\n",
        "                         pretrained=True)\n",
        "\n",
        "# clf_2 = CClassifierPyTorch(model=model,\n",
        "#                          input_shape=(3, 224, 224),\n",
        "#                          softmax_outputs=True,\n",
        "#                          preprocess=normalizer,\n",
        "#                          random_state=0,\n",
        "#                          pretrained=True)\n",
        "\n",
        "# load the imagenet labels\n",
        "import json\n",
        "\n",
        "imagenet_labels_path = \"https://raw.githubusercontent.com/\" \\\n",
        "                       \"anishathalye/imagenet-simple-labels/\" \\\n",
        "                       \"master/imagenet-simple-labels.json\"\n",
        "r = requests.get(imagenet_labels_path)\n",
        "labels = json.load(io.StringIO(r.text))"
      ]
    },
    {
      "cell_type": "markdown",
      "metadata": {
        "id": "ufvWUY7xxaAG"
      },
      "source": [
        "We load the image of a race car that we would like to have misclassified \n",
        "as a tiger and we show it, along with the classifier prediction."
      ]
    },
    {
      "cell_type": "code",
      "execution_count": null,
      "metadata": {
        "id": "8eC6Xf1_xaAG",
        "outputId": "dd72326e-b2cb-4ddf-a05c-d3e5a14417a4",
        "colab": {
          "base_uri": "https://localhost:8080/",
          "height": 286
        }
      },
      "outputs": [
        {
          "output_type": "display_data",
          "data": {
            "text/plain": [
              "<Figure size 288x288 with 1 Axes>"
            ],
            "image/png": "[encoded data removed]"
          },
          "metadata": {
            "needs_background": "light"
          }
        }
      ],
      "source": [
        "import numpy as np\n",
        "from PIL import Image\n",
        "from torchvision import transforms\n",
        "\n",
        "from secml.array import CArray\n",
        "import cv2 as cv\n",
        "import argparse\n",
        "import random as rng\n",
        "\n",
        "\n",
        "transform = transforms.Compose([\n",
        "    transforms.Resize(256),\n",
        "    transforms.CenterCrop(224),\n",
        "    transforms.ToTensor(),         \n",
        "])\n",
        "\n",
        "img_path = \"https://images.pexels.com/photos/589782/pexels-photo-589782.jpeg\"\\\n",
        "            \"?cs=srgb&dl=car-mitshubishi-race-rally-589782.jpg&fm=jpg\"\n",
        "r = requests.get(img_path)\n",
        "img = Image.open(io.BytesIO(r.content))\n",
        "\n",
        "# apply transform from torchvision\n",
        "img = transform(img)\n",
        "# transform the image into a vector\n",
        "img = torch.unsqueeze(img, 0).view(-1)\n",
        "img = CArray(img.numpy())\n",
        "\n",
        "# get the classifier prediction\n",
        "preds = clf.predict(img)\n",
        "\n",
        "pred_class = preds.item()\n",
        "pred_label = labels[pred_class]\n",
        "\n",
        "# create a function to show images\n",
        "def plot_img(f, x, label):\n",
        "    x = np.transpose(x.tondarray().reshape((3, 224, 224)), (1, 2, 0))\n",
        "    f.sp.title(label)\n",
        "    f.sp.imshow(x)\n",
        "    return f \n",
        "    \n",
        "# show the original image\n",
        "from secml.figure import CFigure\n",
        "# Only required for visualization in notebooks\n",
        "%matplotlib inline\n",
        "\n",
        "fig = CFigure(height=4, width=4, fontsize=14)\n",
        "plot_img(fig, img, label=pred_label)\n",
        "fig.show()"
      ]
    },
    {
      "cell_type": "markdown",
      "metadata": {
        "id": "s25R_HqkxaAH"
      },
      "source": [
        "## Run the attack\n",
        "\n",
        "We should create the attack class that we will use to compute the attack.\n",
        "Changing the value of the variable `attack_type`, you can choose between \n",
        "three different attacks: `CW`, `PGD`, and `PGD-patch`.\n",
        "\n",
        "Note that the PGD-patch attack may take some time to run depending on the machine."
      ]
    },
    {
      "cell_type": "code",
      "execution_count": null,
      "metadata": {
        "id": "zeiNHC8WxaAI"
      },
      "outputs": [],
      "source": [
        "attack_type = 'PGD-patch'\n",
        "# attack_type = 'PGD'\n",
        "# attack_type = 'CW'"
      ]
    },
    {
      "cell_type": "markdown",
      "metadata": {
        "id": "8t-pC-dDxaAI"
      },
      "source": [
        "To perform a `PGD-patch` attack that only manipulates the license plate in \n",
        "our car image, we need to define a proper box constraint along with its \n",
        "upper and lower bounds. To this end, we create the following function:"
      ]
    },
    {
      "cell_type": "code",
      "execution_count": null,
      "metadata": {
        "id": "myvuf4DfxaAI"
      },
      "outputs": [],
      "source": [
        "def define_lb_ub(image, x_low_b, x_up_b, y_low_b, y_up_b, low_b, up_b, n_channels=3):\n",
        "    \n",
        "    # reshape the img (it is stored as a flat vector)\n",
        "    image = image.tondarray().reshape((3, 224, 224))\n",
        "\n",
        "    # assign to the lower and upper bound the same values of the image pixels\n",
        "    low_b_patch = deepcopy(image)\n",
        "    up_b_patch = deepcopy(image)\n",
        "\n",
        "    # for each image channel, set the lower bound of the pixels in the \n",
        "    # region defined by x_low_b, x_up_b, y_low_b, y_up_b equal to lb and \n",
        "    # the upper  bound equal to up in this way the attacker will be able \n",
        "    # to modify only the pixels in this region.\n",
        "    for ch in range(n_channels):\n",
        "         low_b_patch[ch, x_low_b:x_up_b, y_low_b:y_up_b] = low_b\n",
        "         up_b_patch[ch, x_low_b:x_up_b, y_low_b:y_up_b] = up_b\n",
        "\n",
        "    return CArray(np.ravel(low_b_patch)), CArray(np.ravel(up_b_patch))"
      ]
    },
    {
      "cell_type": "code",
      "source": [
        "from copy import deepcopy\n",
        "def get_possible_regions(image,val=0, n_channels=3):\n",
        "    src = deepcopy(np.transpose(image.tondarray().reshape((3, 224, 224)), (1, 2, 0)))\n",
        "    src = src*(255)\n",
        "    \n",
        "    threshold = val\n",
        "    # Convert image to gray and blur it\n",
        "    src_gray = cv.cvtColor(src, cv.COLOR_BGR2GRAY)\n",
        "    # print(np.max(src_gray))\n",
        "    # print(np.min(src_gray))\n",
        "    # src_gray = cv.blur(src_gray, (5,5))\n",
        "    # Detect edges using Canny\n",
        "    canny_output = cv.Canny(np.uint8(src_gray), 0,255)\n",
        "    # print(canny_output)\n",
        "    # Find contours\n",
        "    contours = cv.findContours(canny_output, cv.RETR_EXTERNAL, cv.CHAIN_APPROX_SIMPLE)[0]\n",
        "    # print(cv.findContours(canny_output, cv.RETR_TREE, cv.CHAIN_APPROX_SIMPLE))\n",
        "    # Find the convex hull object for each contour\n",
        "    XYWH = []\n",
        "    for i in range(len(contours)):\n",
        "        hull = cv.convexHull(contours[i])\n",
        "        x, y, w, h = cv.boundingRect(hull)\n",
        "        XYWH.append((x,y,w,h))\n",
        "    return XYWH\n",
        "\n",
        "\n",
        "# def define_lb_ub_custom(image,low_b, up_b, val=0, n_channels=3):\n",
        "    \n",
        "#     src = deepcopy(np.transpose(image.tondarray().reshape((3, 224, 224)), (1, 2, 0)))\n",
        "#     print(src.shape)\n",
        "#     src = src*(255)\n",
        "#     # print(src)\n",
        "#     # reshape the img (it is stored as a flat vector)\n",
        "#     image1 = image.tondarray().reshape((3, 224, 224))\n",
        "    \n",
        "#     threshold = val\n",
        "#     # Convert image to gray and blur it\n",
        "#     src_gray = cv.cvtColor(src, cv.COLOR_BGR2GRAY)\n",
        "#     print(np.max(src_gray))\n",
        "#     print(np.min(src_gray))\n",
        "#     # src_gray = cv.blur(src_gray, (5,5))\n",
        "#     # Detect edges using Canny\n",
        "#     canny_output = cv.Canny(np.uint8(src_gray), 0,255)\n",
        "#     print(canny_output)\n",
        "#     # Find contours\n",
        "#     contours = cv.findContours(canny_output, cv.RETR_EXTERNAL, cv.CHAIN_APPROX_SIMPLE)[0]\n",
        "#     # print(cv.findContours(canny_output, cv.RETR_TREE, cv.CHAIN_APPROX_SIMPLE))\n",
        "#     # Find the convex hull object for each contour\n",
        "#     hull_list = []\n",
        "#     for i in range(len(contours)):\n",
        "#         hull = cv.convexHull(contours[i])\n",
        "#         hull_list.append(hull)\n",
        "#     # print(hull_list)\n",
        "#     print(len(hull_list))\n",
        "#      # Draw contours + hull results\n",
        "#     # drawing = np.zeros((canny_output.shape[0], canny_output.shape[1], 3), dtype=np.uint8)\n",
        "\n",
        "#     for i in range(len(contours)):\n",
        "\n",
        "#         color = (rng.randint(0,256), rng.randint(0,256), rng.randint(0,256))\n",
        "#         x, y, w, h = cv.boundingRect(hull_list[i])\n",
        "#         # Draw a rectangle on the image using the given coordinates and color\n",
        "#         # color = (0, 255, 0) # Green color\n",
        "#         # thickness = 2 # Line thickness in pixels\n",
        "#         # cv.rectangle(drawing, (x, y), (x+w, y+h), color, thickness)\n",
        "#         # patch = img[y:y+h, x:x+w]\n",
        "#         # cv.drawContours(drawing, contours, i, color)\n",
        "#         # cv.drawContours(drawing, hull_list, i, color)\n",
        "#     # Show in a window\n",
        "#     from google.colab.patches import cv2_imshow\n",
        "#     cv2_imshow(drawing)\n",
        "#     # assign to the lower and upper bound the same values of the image pixels\n",
        "#     low_b_patch = deepcopy(image1)\n",
        "#     up_b_patch = deepcopy(image1)\n",
        "#     # for ch in range(n_channels):\n",
        "#     #     low_b_patch[ch, x_low_b:x_up_b, y_low_b:y_up_b] = low_b\n",
        "#     #     up_b_patch[ch, x_low_b:x_up_b, y_low_b:y_up_b] = up_b\n",
        "\n",
        "#     # for i in range(len(hull_list)):\n",
        "#     #   patch_points = hull_list[i]\n",
        "#     #   x = [patch_point[0][0] for patch_point in patch_points]\n",
        "#     #   y = [patch_point[0][1] for patch_point in patch_points]\n",
        "#     #   xy = [(x,y) for x,y in list(zip(x,y))]\n",
        "#     #   # print(xy)\n",
        "#     #   # print(patch_points)\n",
        "#     #   # print(x)\n",
        "#     #   # print(y)\n",
        "#     #   x_low_b = 0\n",
        "#     #   y_low_b = 0\n",
        "#     #   for x,y in xy:\n",
        "#     #     x_up_b = x\n",
        "#     #     y_up_b = y\n",
        "#     #     low_b_patch[:, x_low_b:x_up_b, y_low_b:y_up_b] = low_b\n",
        "#     #     up_b_patch[:, x_low_b:x_up_b, y_low_b:y_up_b] = up_b\n",
        "#     #     x_low_b = x_up_b\n",
        "#     #     y_low_b = y_up_b\n",
        "      \n",
        "#         # low_b_patch[:, x_low_b:x_up_b, y_low_b:y_up_b] = low_b\n",
        "#         # up_b_patch[:, x_low_b:x_up_b, y_low_b:y_up_b] = up_b\n",
        "      \n",
        "    \n",
        "#     return CArray(np.ravel(low_b_patch)), CArray(np.ravel(up_b_patch))\n",
        "\n"
      ],
      "metadata": {
        "id": "YKF6NlMsmlLM"
      },
      "execution_count": null,
      "outputs": []
    },
    {
      "cell_type": "code",
      "source": [
        "# define_lb_ub_custom(img,0, 1, val=0, n_channels=3)\n",
        "XYWH = get_possible_regions(img,val=0, n_channels=3)\n"
      ],
      "metadata": {
        "id": "2KLv7Ablny0w"
      },
      "execution_count": null,
      "outputs": []
    },
    {
      "cell_type": "markdown",
      "metadata": {
        "id": "5DZpNwoNxaAI"
      },
      "source": [
        "We instantiate and run the attack, and show the resulting adversarial \n",
        "image along with its explanations, computed via integrated gradients."
      ]
    },
    {
      "cell_type": "code",
      "execution_count": null,
      "metadata": {
        "id": "8-iZLT_BxaAJ",
        "outputId": "d817f871-87eb-433f-ae05-d5c174477b13",
        "colab": {
          "base_uri": "https://localhost:8080/"
        }
      },
      "outputs": [
        {
          "output_type": "stream",
          "name": "stdout",
          "text": [
            "advx_pred = CArray([292]) and adv_pred_label = tiger and eva_y_pred = CArray([292])\n",
            "(44, 1000)\n",
            "<class 'numpy.ndarray'>\n",
            "maximum index scores = [751 751 751 751 751 751 751 751 751 751 751 751 751 751 751 751 751 751\n",
            " 751 751 751 751 751 751 751 290 751 751 290 751 751 751 290 751 751 751\n",
            " 751 751 292 292 292 292 292 292] and actual scores = [0.76426472 0.77441858 0.73319673 0.69760867 0.69118656 0.71646975\n",
            " 0.68616256 0.72906126 0.7008606  0.64573338 0.74012828 0.61705137\n",
            " 0.57598595 0.54160503 0.59250348 0.51600859 0.63111576 0.53601385\n",
            " 0.41650476 0.3742389  0.29827901 0.29384077 0.38173318 0.32118078\n",
            " 0.26976597 0.43915581 0.38497127 0.25091653 0.17975798 0.54841957\n",
            " 0.32869821 0.21497748 0.2004513  0.41856034 0.30686479 0.34168183\n",
            " 0.35710404 0.29474692 0.30862573 0.39904973 0.41321168 0.35530246\n",
            " 0.41592871 0.51075521]\n"
          ]
        }
      ],
      "source": [
        "from copy import deepcopy\n",
        "\n",
        "# from cleverhans.attacks import CarliniWagnerL2\n",
        "\n",
        "from secml.adv.attacks import CAttackEvasion\n",
        "from secml.explanation import CExplainerIntegratedGradients\n",
        "\n",
        "\n",
        "lb = 0 \n",
        "ub = 1\n",
        "target_idx = 292  # tiger \n",
        "\n",
        "attack_id = ''\n",
        "attack_params = {}\n",
        "\n",
        "\n",
        "if attack_type == 'PGD-patch':\n",
        "    attack_id = 'e-pgd'\n",
        "    # create the mask that we will use to allows the attack to modify only \n",
        "    # a restricted region of the image\n",
        "    x_lb = 140; x_ub = 160; y_lb = 10; y_ub = 80\n",
        "    dmax_patch = 5000    \n",
        "    lb_patch, ub_patch = define_lb_ub(\n",
        "        img, x_lb, x_ub, y_lb, y_ub, lb,ub, n_channels=3)\n",
        "    solver_params = {\n",
        "        'eta': 0.8,\n",
        "        'max_iter': 50,\n",
        "        'eps': 1e-6}\n",
        "\n",
        "    attack_params = {'double_init': False,\n",
        "                     'distance': 'l2',\n",
        "                     'dmax': dmax_patch,\n",
        "                     'lb': lb_patch,\n",
        "                     'ub': ub_patch,\n",
        "                     'y_target': target_idx,\n",
        "                     'solver_params': solver_params}\n",
        "    \n",
        "attack = CAttackEvasion.create(\n",
        "    attack_id, \n",
        "    clf, \n",
        "    **attack_params)\n",
        "\n",
        "\n",
        "# run the attack\n",
        "eva_y_pred, _, eva_adv_ds, _ = attack.run(img, pred_class)\n",
        "adv_img = eva_adv_ds.X[0,:]\n",
        "\n",
        "\n",
        "# get the classifier prediction\n",
        "advx_pred = clf.predict(adv_img)\n",
        "advx_label_idx = advx_pred.item()\n",
        "adv_pred_label = labels[advx_label_idx]\n",
        "\n",
        "print(f\"advx_pred = {advx_pred} and adv_pred_label = {adv_pred_label} and eva_y_pred = {eva_y_pred}\")\n",
        "from secml.ml.classifiers.loss import CSoftmax\n",
        "from secml.ml.features.normalization import CNormalizerMinMax\n",
        "# classify all the points in the attack path\n",
        "scores = clf.predict(attack.x_seq, return_decision_function=True)[1]\n",
        "\n",
        "# we apply the softmax to the score to have value in [0,1]\n",
        "scores = CSoftmax().softmax(scores)\n",
        "print(scores.shape)\n",
        "scores = scores.tondarray()\n",
        "print(type(scores))\n",
        "print(f\"maximum index scores = {np.argmax(scores,axis = 1)} and actual scores = {np.max(scores,axis = 1)}\")\n",
        "\n",
        "# for i in range(1000):\n",
        "  # print(scores[i])\n",
        "\n",
        "# from secml.ml.peval.metrics import CMetric\n",
        "# acc_torch = CMetric.create('accuracy').performance_score(advx_pred, eva_y_pred)\n",
        "# print(\"Model Accuracy for adversarial sample: {}\".format(acc_torch))\n"
      ]
    },
    {
      "cell_type": "code",
      "source": [
        "import pandas as pd\n",
        "from tqdm.notebook import tqdm\n",
        "tqdm.pandas()\n",
        "\n",
        "# df = pd.DataFrame()"
      ],
      "metadata": {
        "id": "NYNsGoqZ3R9K"
      },
      "execution_count": null,
      "outputs": []
    },
    {
      "cell_type": "code",
      "source": [
        "# dim_tuple_list = [(i,j) for i in range(224-1) for j in range(224-1)]\n"
      ],
      "metadata": {
        "id": "UT3TvA_C3XD4"
      },
      "execution_count": null,
      "outputs": []
    },
    {
      "cell_type": "code",
      "source": [
        "# df['pixel_x'] = [i for i,j in dim_tuple_list]\n",
        "# df['pixel_y'] = [j for i,j in dim_tuple_list]\n",
        "# df['both_pixels'] = [f\"{i},{j}\" for i,j in dim_tuple_list]"
      ],
      "metadata": {
        "id": "z1wxk6tE3kMW"
      },
      "execution_count": null,
      "outputs": []
    },
    {
      "cell_type": "code",
      "source": [
        "# df = df.iloc[1120:1122]\n",
        "# df"
      ],
      "metadata": {
        "id": "-srd2-Fv6NR7"
      },
      "execution_count": null,
      "outputs": []
    },
    {
      "cell_type": "code",
      "source": [
        "def call_attack(pixel_x,pixel_y,dx,dy,max_iter):\n",
        "    attack_id = 'e-pgd'\n",
        "    # create the mask that we will use to allows the attack to modify only \n",
        "    # a restricted region of the image\n",
        "    x_lb = pixel_x; x_ub = pixel_x + dx; y_lb = pixel_y; y_ub = pixel_y + dy\n",
        "    dmax_patch = 5000    \n",
        "    lb_patch, ub_patch = define_lb_ub(img, x_lb, x_ub, y_lb, y_ub, lb,ub, n_channels=3)\n",
        "    solver_params = {'eta': 0.8,'max_iter': max_iter,'eps': 1e-6}\n",
        "\n",
        "    attack_params = {'double_init': False,\n",
        "                     'distance': 'l2',\n",
        "                     'dmax': dmax_patch,\n",
        "                     'lb': lb_patch,\n",
        "                     'ub': ub_patch,\n",
        "                    #  'y_target': target_idx,\n",
        "                     'solver_params': solver_params}\n",
        "    \n",
        "    attack = CAttackEvasion.create(attack_id, clf, **attack_params)\n",
        "    eva_y_pred, _, eva_adv_ds, _ = attack.run(img, pred_class)\n",
        "    # advx_pred = clf.predict(adv_img)\n",
        "    # advx_label_idx = advx_pred.item()\n",
        "    # adv_pred_label = labels[advx_label_idx]\n",
        "    scores = clf.predict(attack.x_seq, return_decision_function=True)[1]\n",
        "\n",
        "    # we apply the softmax to the score to have value in [0,1]\n",
        "    scores = CSoftmax().softmax(scores)\n",
        "    scores = scores.tondarray()\n",
        "    # print(f\"maximum index scores = {np.argmax(scores,axis = 1)} and actual scores = {np.max(scores,axis = 1)}\")\n",
        "    os = []\n",
        "    score_values = []\n",
        "    i=0\n",
        "    average_accuracy = 0.0\n",
        "    i=0\n",
        "    for x,y in zip(np.argmax(scores,axis = 1),np.max(scores,axis = 1)):\n",
        "      os.append(f\"Actual Label = {pred_label} VS Predicted Label = {labels[int(x)]} with score = {float(y)}\")\n",
        "      if pred_label != labels[int(x)]:\n",
        "        average_accuracy += float(y)\n",
        "        i+=1\n",
        "    if i!=0:\n",
        "      average_accuracy /= i\n",
        "      os.append(f\"Average misclassification Accuracy = {average_accuracy}\")\n",
        "    else:\n",
        "      average_accuracy = 1.0\n",
        "      os.append(f\"Average correct classification Accuracy = {average_accuracy}\")\n",
        "    # 1 chosen because label is correctly classified\n",
        "    deviation = 1 - average_accuracy\n",
        "    os.append(f\"Deviation between Correct Accuracy and Avg Mis/correct classification Acc = {deviation}\")\n",
        "    if deviation > 0.5:\n",
        "      os.append(f\"Detected Poison Pixel\")\n",
        "    else:\n",
        "      os.append(f\"Not Detected Poison Pixel\")\n",
        "\n",
        "    return os\n",
        "\n",
        "\n"
      ],
      "metadata": {
        "id": "_53CMjm64LF-"
      },
      "execution_count": null,
      "outputs": []
    },
    {
      "cell_type": "code",
      "source": [
        "from copy import deepcopy\n",
        "\n",
        "# from cleverhans.attacks import CarliniWagnerL2\n",
        "\n",
        "from secml.adv.attacks import CAttackEvasion\n",
        "from secml.explanation import CExplainerIntegratedGradients\n",
        "from secml.ml.classifiers.loss import CSoftmax\n",
        "from secml.ml.features.normalization import CNormalizerMinMax\n",
        "\n",
        "import pandas as pd\n",
        "df = pd.DataFrame()\n",
        "df['XYWH'] = XYWH\n",
        "lb = 0 \n",
        "ub = 1\n",
        "# target_idx = 292  # tiger \n",
        "df['outputs'] = df['XYWH'].progress_apply(lambda x:call_attack(x[0],x[1],x[2],x[3],50))"
      ],
      "metadata": {
        "colab": {
          "base_uri": "https://localhost:8080/",
          "height": 49,
          "referenced_widgets": [
            "63b4b8a57a3142268b3f2900c9f920b5",
            "edc3425918c440a0a1dde20f1e28a630",
            "aa7f67b80a5f4258aaee966ee6eb777e",
            "4e7ee0692bd64923bc2c885d3efb404c",
            "91914d7468174e488724f6fc7ca8c2cd",
            "f9138c9c6ae446ea8cb5d25bf390a4f7",
            "24b1633ce35343de862663200f4703d6",
            "66633d5444774eb9a5c7c750ceb063c1",
            "a13d82e7a1c54d189c4660104ea41006",
            "1823a2d45a8545bb8a4446131b95d87a",
            "8d016a511ef3467fb9c7c19291e6bc15"
          ]
        },
        "id": "PqK8NY29aL2u",
        "outputId": "e580b064-59d3-4b9b-fb1d-0aa085fc29ab"
      },
      "execution_count": null,
      "outputs": [
        {
          "output_type": "display_data",
          "data": {
            "text/plain": [
              "  0%|          | 0/91 [00:00<?, ?it/s]"
            ],
            "application/vnd.jupyter.widget-view+json": {
              "version_major": 2,
              "version_minor": 0,
              "model_id": "63b4b8a57a3142268b3f2900c9f920b5"
            }
          },
          "metadata": {}
        }
      ]
    },
    {
      "cell_type": "code",
      "source": [
        "df.head(5)"
      ],
      "metadata": {
        "colab": {
          "base_uri": "https://localhost:8080/",
          "height": 1950
        },
        "id": "CNHoPV66eNdB",
        "outputId": "725903e4-db0e-4d0e-9c21-811568aa3cf0"
      },
      "execution_count": null,
      "outputs": [
        {
          "output_type": "execute_result",
          "data": {
            "text/plain": [
              "                 XYWH                                            outputs\n",
              "0   (54, 177, 60, 10)  [Actual Label = race car VS Predicted Label = ...\n",
              "1     (47, 176, 6, 7)  [Actual Label = race car VS Predicted Label = ...\n",
              "2  (199, 159, 14, 18)  [Actual Label = race car VS Predicted Label = ...\n",
              "3   (109, 156, 55, 9)  [Actual Label = race car VS Predicted Label = ...\n",
              "4    (85, 154, 17, 8)  [Actual Label = race car VS Predicted Label = ..."
            ],
            "text/html": [
              "\n",
              "  <div id=\"df-e9d63b6d-986a-478a-8642-2f794130fce5\">\n",
              "    <div class=\"colab-df-container\">\n",
              "      <div>\n",
              "<style scoped>\n",
              "    .dataframe tbody tr th:only-of-type {\n",
              "        vertical-align: middle;\n",
              "    }\n",
              "\n",
              "    .dataframe tbody tr th {\n",
              "        vertical-align: top;\n",
              "    }\n",
              "\n",
              "    .dataframe thead th {\n",
              "        text-align: right;\n",
              "    }\n",
              "</style>\n",
              "<table border=\"1\" class=\"dataframe\">\n",
              "  <thead>\n",
              "    <tr style=\"text-align: right;\">\n",
              "      <th></th>\n",
              "      <th>XYWH</th>\n",
              "      <th>outputs</th>\n",
              "    </tr>\n",
              "  </thead>\n",
              "  <tbody>\n",
              "    <tr>\n",
              "      <th>0</th>\n",
              "      <td>(54, 177, 60, 10)</td>\n",
              "      <td>[Actual Label = race car VS Predicted Label = ...</td>\n",
              "    </tr>\n",
              "    <tr>\n",
              "      <th>1</th>\n",
              "      <td>(47, 176, 6, 7)</td>\n",
              "      <td>[Actual Label = race car VS Predicted Label = ...</td>\n",
              "    </tr>\n",
              "    <tr>\n",
              "      <th>2</th>\n",
              "      <td>(199, 159, 14, 18)</td>\n",
              "      <td>[Actual Label = race car VS Predicted Label = ...</td>\n",
              "    </tr>\n",
              "    <tr>\n",
              "      <th>3</th>\n",
              "      <td>(109, 156, 55, 9)</td>\n",
              "      <td>[Actual Label = race car VS Predicted Label = ...</td>\n",
              "    </tr>\n",
              "    <tr>\n",
              "      <th>4</th>\n",
              "      <td>(85, 154, 17, 8)</td>\n",
              "      <td>[Actual Label = race car VS Predicted Label = ...</td>\n",
              "    </tr>\n",
              "  </tbody>\n",
              "</table>\n",
              "</div>\n",
              "      <button class=\"colab-df-convert\" onclick=\"convertToInteractive('df-e9d63b6d-986a-478a-8642-2f794130fce5')\"\n",
              "              title=\"Convert this dataframe to an interactive table.\"\n",
              "              style=\"display:none;\">\n",
              "        \n",
              "  <svg xmlns=\"http://www.w3.org/2000/svg\" height=\"24px\"viewBox=\"0 0 24 24\"\n",
              "       width=\"24px\">\n",
              "    <path d=\"M0 0h24v24H0V0z\" fill=\"none\"/>\n",
              "    <path d=\"M18.56 5.44l.94 2.06.94-2.06 2.06-.94-2.06-.94-.94-2.06-.94 2.06-2.06.94zm-11 1L8.5 8.5l.94-2.06 2.06-.94-2.06-.94L8.5 2.5l-.94 2.06-2.06.94zm10 10l.94 2.06.94-2.06 2.06-.94-2.06-.94-.94-2.06-.94 2.06-2.06.94z\"/><path d=\"M17.41 7.96l-1.37-1.37c-.4-.4-.92-.59-1.43-.59-.52 0-1.04.2-1.43.59L10.3 9.45l-7.72 7.72c-.78.78-.78 2.05 0 2.83L4 21.41c.39.39.9.59 1.41.59.51 0 1.02-.2 1.41-.59l7.78-7.78 2.81-2.81c.8-.78.8-2.07 0-2.86zM5.41 20L4 18.59l7.72-7.72 1.47 1.35L5.41 20z\"/>\n",
              "  </svg>\n",
              "      </button>\n",
              "      \n",
              "  <style>\n",
              "    .colab-df-container {\n",
              "      display:flex;\n",
              "      flex-wrap:wrap;\n",
              "      gap: 12px;\n",
              "    }\n",
              "\n",
              "    .colab-df-convert {\n",
              "      background-color: #E8F0FE;\n",
              "      border: none;\n",
              "      border-radius: 50%;\n",
              "      cursor: pointer;\n",
              "      display: none;\n",
              "      fill: #1967D2;\n",
              "      height: 32px;\n",
              "      padding: 0 0 0 0;\n",
              "      width: 32px;\n",
              "    }\n",
              "\n",
              "    .colab-df-convert:hover {\n",
              "      background-color: #E2EBFA;\n",
              "      box-shadow: 0px 1px 2px rgba(60, 64, 67, 0.3), 0px 1px 3px 1px rgba(60, 64, 67, 0.15);\n",
              "      fill: #174EA6;\n",
              "    }\n",
              "\n",
              "    [theme=dark] .colab-df-convert {\n",
              "      background-color: #3B4455;\n",
              "      fill: #D2E3FC;\n",
              "    }\n",
              "\n",
              "    [theme=dark] .colab-df-convert:hover {\n",
              "      background-color: #434B5C;\n",
              "      box-shadow: 0px 1px 3px 1px rgba(0, 0, 0, 0.15);\n",
              "      filter: drop-shadow(0px 1px 2px rgba(0, 0, 0, 0.3));\n",
              "      fill: #FFFFFF;\n",
              "    }\n",
              "  </style>\n",
              "\n",
              "      <script>\n",
              "        const buttonEl =\n",
              "          document.querySelector('#df-e9d63b6d-986a-478a-8642-2f794130fce5 button.colab-df-convert');\n",
              "        buttonEl.style.display =\n",
              "          google.colab.kernel.accessAllowed ? 'block' : 'none';\n",
              "\n",
              "        async function convertToInteractive(key) {\n",
              "          const element = document.querySelector('#df-e9d63b6d-986a-478a-8642-2f794130fce5');\n",
              "          const dataTable =\n",
              "            await google.colab.kernel.invokeFunction('convertToInteractive',\n",
              "                                                     [key], {});\n",
              "          if (!dataTable) return;\n",
              "\n",
              "          const docLinkHtml = 'Like what you see? Visit the ' +\n",
              "            '<a target=\"_blank\" href=https://colab.research.google.com/notebooks/data_table.ipynb>data table notebook</a>'\n",
              "            + ' to learn more about interactive tables.';\n",
              "          element.innerHTML = '';\n",
              "          dataTable['output_type'] = 'display_data';\n",
              "          await google.colab.output.renderOutput(dataTable, element);\n",
              "          const docLink = document.createElement('div');\n",
              "          docLink.innerHTML = docLinkHtml;\n",
              "          element.appendChild(docLink);\n",
              "        }\n",
              "      </script>\n",
              "    </div>\n",
              "  </div>\n",
              "  "
            ]
          },
          "metadata": {},
          "execution_count": 16
        }
      ]
    },
    {
      "cell_type": "code",
      "source": [
        "# call_attack(140,10,20,70,50)\n",
        "call_attack(1,10,2,7,50)"
      ],
      "metadata": {
        "colab": {
          "base_uri": "https://localhost:8080/"
        },
        "id": "TTmU8J8RjNO2",
        "outputId": "6966846b-4d6b-4906-9201-3b4d74116ac4"
      },
      "execution_count": null,
      "outputs": [
        {
          "output_type": "execute_result",
          "data": {
            "text/plain": [
              "['Actual Label = race car VS Predicted Label = race car with score = 0.7642647179031994',\n",
              " 'Actual Label = race car VS Predicted Label = race car with score = 0.7569836081674702',\n",
              " 'Actual Label = race car VS Predicted Label = race car with score = 0.7501244928065693',\n",
              " 'Actual Label = race car VS Predicted Label = race car with score = 0.7479364595004621',\n",
              " 'Actual Label = race car VS Predicted Label = race car with score = 0.7464762168585538',\n",
              " 'Actual Label = race car VS Predicted Label = race car with score = 0.7451918510830167',\n",
              " 'Actual Label = race car VS Predicted Label = race car with score = 0.7452706315081812',\n",
              " 'Actual Label = race car VS Predicted Label = race car with score = 0.7437241275693413',\n",
              " 'Actual Label = race car VS Predicted Label = race car with score = 0.744722018918887',\n",
              " 'Actual Label = race car VS Predicted Label = race car with score = 0.7435673714683072',\n",
              " 'Actual Label = race car VS Predicted Label = race car with score = 0.7437405454668432',\n",
              " 'Actual Label = race car VS Predicted Label = race car with score = 0.7440604100113273',\n",
              " 'Actual Label = race car VS Predicted Label = race car with score = 0.7423304631020647',\n",
              " 'Actual Label = race car VS Predicted Label = race car with score = 0.742552541843471',\n",
              " 'Actual Label = race car VS Predicted Label = race car with score = 0.7426400894333697',\n",
              " 'Actual Label = race car VS Predicted Label = race car with score = 0.7428218648663504',\n",
              " 'Actual Label = race car VS Predicted Label = race car with score = 0.7421316099619303',\n",
              " 'Actual Label = race car VS Predicted Label = race car with score = 0.7431992165786502',\n",
              " 'Actual Label = race car VS Predicted Label = race car with score = 0.7418543743124894',\n",
              " 'Actual Label = race car VS Predicted Label = race car with score = 0.7421674148003888',\n",
              " 'Actual Label = race car VS Predicted Label = race car with score = 0.7414658452976691',\n",
              " 'Actual Label = race car VS Predicted Label = race car with score = 0.7415656624984529',\n",
              " 'Actual Label = race car VS Predicted Label = race car with score = 0.7405120085424097',\n",
              " 'Actual Label = race car VS Predicted Label = race car with score = 0.7411388512264636',\n",
              " 'Actual Label = race car VS Predicted Label = race car with score = 0.7409972853626736',\n",
              " 'Actual Label = race car VS Predicted Label = race car with score = 0.7410982293792858',\n",
              " 'Actual Label = race car VS Predicted Label = race car with score = 0.7409410406802861',\n",
              " 'Actual Label = race car VS Predicted Label = race car with score = 0.7409944840653913',\n",
              " 'Actual Label = race car VS Predicted Label = race car with score = 0.740724287900814',\n",
              " 'Actual Label = race car VS Predicted Label = race car with score = 0.7408913550414122',\n",
              " 'Actual Label = race car VS Predicted Label = race car with score = 0.7409746777484707',\n",
              " 'Actual Label = race car VS Predicted Label = race car with score = 0.741169310662535',\n",
              " 'Actual Label = race car VS Predicted Label = race car with score = 0.7410646126270177',\n",
              " 'Actual Label = race car VS Predicted Label = race car with score = 0.7412385455999951',\n",
              " 'Actual Label = race car VS Predicted Label = race car with score = 0.741017640955152',\n",
              " 'Actual Label = race car VS Predicted Label = race car with score = 0.7412030151071484',\n",
              " 'Actual Label = race car VS Predicted Label = race car with score = 0.7407193083337333',\n",
              " 'Actual Label = race car VS Predicted Label = race car with score = 0.740857130241695',\n",
              " 'Actual Label = race car VS Predicted Label = race car with score = 0.7407583948919007',\n",
              " 'Actual Label = race car VS Predicted Label = race car with score = 0.7408617234328756',\n",
              " 'Actual Label = race car VS Predicted Label = race car with score = 0.74066375168065',\n",
              " 'Actual Label = race car VS Predicted Label = race car with score = 0.7408999882282633',\n",
              " 'Actual Label = race car VS Predicted Label = race car with score = 0.7404849351874596',\n",
              " 'Actual Label = race car VS Predicted Label = race car with score = 0.7408191364547964',\n",
              " 'Actual Label = race car VS Predicted Label = race car with score = 0.7407271001028795',\n",
              " 'Actual Label = race car VS Predicted Label = race car with score = 0.7406593932811617',\n",
              " 'Actual Label = race car VS Predicted Label = race car with score = 0.7403389892022965',\n",
              " 'Actual Label = race car VS Predicted Label = race car with score = 0.7405768804432596',\n",
              " 'Average misclassification Accuracy = 1.0',\n",
              " 'Deviation between Correct Accuracy and Avg Misclassification Acc = 0.0',\n",
              " 'Not Detected Poison Pixel']"
            ]
          },
          "metadata": {},
          "execution_count": 51
        }
      ]
    },
    {
      "cell_type": "code",
      "source": [
        "from dash.dependencies import Input, Output, State\n",
        "import dash_core_components as dcc\n",
        "import dash_html_components as html\n",
        "\n",
        "app = JupyterDash(__name__)\n",
        "\n",
        "app.layout = html.Div([\n",
        "    dcc.Input(id='my-id', value='pixel_x_value', type=\"text\"),\n",
        "    dcc.Input(id='my-id-1', value='pixel_y_value', type=\"text\"),\n",
        "    dcc.Input(id='my-id-2', value='pixel_dx_value', type=\"text\"),\n",
        "    dcc.Input(id='my-id-3', value='pixel_dy_value', type=\"text\"),\n",
        "    dcc.Input(id='my-id-4', value='max_iter', type=\"text\"),\n",
        "    html.Button('Click Me', id='button'),\n",
        "    html.Div(id='my-div')\n",
        "])\n",
        "\n",
        "@app.callback(\n",
        "    Output(component_id='my-div', component_property='children'),\n",
        "    [Input('button', 'n_clicks')],\n",
        "    [\n",
        "        State(component_id='my-id', component_property='value'),\n",
        "        State(component_id='my-id-1', component_property='value'),\n",
        "        State(component_id='my-id-2', component_property='value'),\n",
        "        State(component_id='my-id-3', component_property='value'),\n",
        "     State(component_id='my-id-4', component_property='value'),\n",
        "    ]\n",
        ")\n",
        "def update_output_div(n_clicks, input_value,input_value_1,input_value_2,input_value_3,input_value_4):\n",
        "    # return 'You\\'ve entered \"{}\" and clicked {} times'.format(input_value, n_clicks)\n",
        "    # return f\"the input values are {input_value} ,{input_value_1} ,{input_value_2} ,{input_value_3}\"\n",
        "\n",
        "    px = int(input_value)\n",
        "    py = int(input_value_1)\n",
        "    dx = int(input_value_2)\n",
        "    dy = int(input_value_3)\n",
        "    max_iter = int(input_value_4)\n",
        "    results = call_attack(px,py,dx,dy,max_iter)\n",
        "    df_res = pd.DataFrame()\n",
        "    df_res['results'] = results\n",
        "    df_res['iterations #'] = [str(i) for i in range(len(results))] \n",
        "    json_dict = df_res.to_dict(orient='records')\n",
        "    return str(json_dict)\n",
        "\n",
        "app.run_server(port = 1000,debug=True,mode='external')"
      ],
      "metadata": {
        "colab": {
          "base_uri": "https://localhost:8080/",
          "height": 52
        },
        "id": "x18us6qwa_JW",
        "outputId": "4047c205-11ed-4dfa-fc83-d61446f4d51b"
      },
      "execution_count": null,
      "outputs": [
        {
          "output_type": "stream",
          "name": "stdout",
          "text": [
            "Dash app running on:\n"
          ]
        },
        {
          "output_type": "display_data",
          "data": {
            "text/plain": [
              "<IPython.core.display.Javascript object>"
            ],
            "application/javascript": [
              "(async (port, path, text, element) => {\n",
              "    if (!google.colab.kernel.accessAllowed) {\n",
              "      return;\n",
              "    }\n",
              "    element.appendChild(document.createTextNode(''));\n",
              "    const url = await google.colab.kernel.proxyPort(port);\n",
              "    const anchor = document.createElement('a');\n",
              "    anchor.href = new URL(path, url).toString();\n",
              "    anchor.target = '_blank';\n",
              "    anchor.setAttribute('data-href', url + path);\n",
              "    anchor.textContent = text;\n",
              "    element.appendChild(anchor);\n",
              "  })(1000, \"/\", \"http://127.0.0.1:1000/\", window.element)"
            ]
          },
          "metadata": {}
        }
      ]
    },
    {
      "cell_type": "code",
      "source": [
        "# df['output'] = df.progress_apply(lambda row:call_attack(row['pixel_x'],row['pixel_y']),axis=1)"
      ],
      "metadata": {
        "id": "tW7zZpqi33X3",
        "outputId": "a47495df-f466-4f73-ee1e-249ac00ada42",
        "colab": {
          "base_uri": "https://localhost:8080/",
          "height": 49,
          "referenced_widgets": [
            "bba55aa280304ca8a3bc275407293868",
            "a633d94b9f1b4964b6a9e12858a317bf",
            "c8b0c1a4cc2c4bcc9bb195e6a5357ff4",
            "3a0240539f0c43ed9f58a285e6e9ce2c",
            "34fcfb6d14b646ed90253316218cbb2d",
            "91dd498158a94196b8bd8d653768d134",
            "4d9890a3ded547f9b7ea30507adfdba5",
            "b9a0cb18f7f940c0beedeee14b0e2a71",
            "8e737b4a10f742ccbd9fd4a1079bbd78",
            "5985ea8772554cc1bde5400083e5754b",
            "2dbfa5ff0fa04d41953f75b34f8024cc"
          ]
        }
      },
      "execution_count": null,
      "outputs": [
        {
          "output_type": "display_data",
          "data": {
            "text/plain": [
              "  0%|          | 0/2 [00:00<?, ?it/s]"
            ],
            "application/vnd.jupyter.widget-view+json": {
              "version_major": 2,
              "version_minor": 0,
              "model_id": "bba55aa280304ca8a3bc275407293868"
            }
          },
          "metadata": {}
        }
      ]
    },
    {
      "cell_type": "code",
      "source": [
        "# df['output'].tolist()"
      ],
      "metadata": {
        "id": "l2uXEZy58iE-"
      },
      "execution_count": null,
      "outputs": []
    },
    {
      "cell_type": "markdown",
      "metadata": {
        "id": "rIMwdmOixaAJ"
      },
      "source": [
        "We compute the explanations for the adversarial image with respect to the \n",
        "target class and visualize the attack results. See the [Explainable Machine Learning](\n",
        "10-Explanation.ipynb) tutorial for more information."
      ]
    },
    {
      "cell_type": "code",
      "execution_count": null,
      "metadata": {
        "id": "cWtpp2JkxaAJ",
        "outputId": "bcfe600c-c100-4aa6-f75a-a96a94f64a79",
        "colab": {
          "base_uri": "https://localhost:8080/",
          "height": 380
        }
      },
      "outputs": [
        {
          "output_type": "error",
          "ename": "KeyboardInterrupt",
          "evalue": "ignored",
          "traceback": [
            "\u001b[0;31m---------------------------------------------------------------------------\u001b[0m",
            "\u001b[0;31mKeyboardInterrupt\u001b[0m                         Traceback (most recent call last)",
            "\u001b[0;32m<ipython-input-42-e80eefe9cc51>\u001b[0m in \u001b[0;36m<module>\u001b[0;34m\u001b[0m\n\u001b[1;32m      1\u001b[0m \u001b[0;31m# compute the explanations w.r.t. the target class\u001b[0m\u001b[0;34m\u001b[0m\u001b[0;34m\u001b[0m\u001b[0;34m\u001b[0m\u001b[0m\n\u001b[1;32m      2\u001b[0m \u001b[0mexplainer\u001b[0m \u001b[0;34m=\u001b[0m \u001b[0mCExplainerIntegratedGradients\u001b[0m\u001b[0;34m(\u001b[0m\u001b[0mclf\u001b[0m\u001b[0;34m)\u001b[0m\u001b[0;34m\u001b[0m\u001b[0;34m\u001b[0m\u001b[0m\n\u001b[0;32m----> 3\u001b[0;31m \u001b[0mexpl\u001b[0m \u001b[0;34m=\u001b[0m \u001b[0mexplainer\u001b[0m\u001b[0;34m.\u001b[0m\u001b[0mexplain\u001b[0m\u001b[0;34m(\u001b[0m\u001b[0madv_img\u001b[0m\u001b[0;34m,\u001b[0m \u001b[0my\u001b[0m\u001b[0;34m=\u001b[0m\u001b[0mtarget_idx\u001b[0m\u001b[0;34m,\u001b[0m \u001b[0mm\u001b[0m\u001b[0;34m=\u001b[0m\u001b[0;36m750\u001b[0m\u001b[0;34m)\u001b[0m\u001b[0;34m\u001b[0m\u001b[0;34m\u001b[0m\u001b[0m\n\u001b[0m\u001b[1;32m      4\u001b[0m \u001b[0;34m\u001b[0m\u001b[0m\n\u001b[1;32m      5\u001b[0m \u001b[0mfig\u001b[0m \u001b[0;34m=\u001b[0m \u001b[0mCFigure\u001b[0m\u001b[0;34m(\u001b[0m\u001b[0mheight\u001b[0m\u001b[0;34m=\u001b[0m\u001b[0;36m4\u001b[0m\u001b[0;34m,\u001b[0m \u001b[0mwidth\u001b[0m\u001b[0;34m=\u001b[0m\u001b[0;36m20\u001b[0m\u001b[0;34m,\u001b[0m \u001b[0mfontsize\u001b[0m\u001b[0;34m=\u001b[0m\u001b[0;36m14\u001b[0m\u001b[0;34m)\u001b[0m\u001b[0;34m\u001b[0m\u001b[0;34m\u001b[0m\u001b[0m\n",
            "\u001b[0;32m/usr/local/lib/python3.8/dist-packages/secml/explanation/c_explainer_integrated_gradients.py\u001b[0m in \u001b[0;36mexplain\u001b[0;34m(self, x, y, return_grad, reference, m)\u001b[0m\n\u001b[1;32m     85\u001b[0m         \u001b[0mriemman_approx\u001b[0m \u001b[0;34m=\u001b[0m \u001b[0mCArray\u001b[0m\u001b[0;34m.\u001b[0m\u001b[0mzeros\u001b[0m\u001b[0;34m(\u001b[0m\u001b[0mx\u001b[0m\u001b[0;34m.\u001b[0m\u001b[0mshape\u001b[0m\u001b[0;34m,\u001b[0m \u001b[0msparse\u001b[0m\u001b[0;34m=\u001b[0m\u001b[0mx\u001b[0m\u001b[0;34m.\u001b[0m\u001b[0missparse\u001b[0m\u001b[0;34m)\u001b[0m\u001b[0;34m\u001b[0m\u001b[0;34m\u001b[0m\u001b[0m\n\u001b[1;32m     86\u001b[0m         \u001b[0;32mfor\u001b[0m \u001b[0mi\u001b[0m \u001b[0;32min\u001b[0m \u001b[0mrange\u001b[0m\u001b[0;34m(\u001b[0m\u001b[0mlen\u001b[0m\u001b[0;34m(\u001b[0m\u001b[0mret\u001b[0m\u001b[0;34m)\u001b[0m\u001b[0;34m)\u001b[0m\u001b[0;34m:\u001b[0m\u001b[0;34m\u001b[0m\u001b[0;34m\u001b[0m\u001b[0m\n\u001b[0;32m---> 87\u001b[0;31m             \u001b[0mriemman_approx\u001b[0m \u001b[0;34m+=\u001b[0m \u001b[0mself\u001b[0m\u001b[0;34m.\u001b[0m\u001b[0mclf\u001b[0m\u001b[0;34m.\u001b[0m\u001b[0mgrad_f_x\u001b[0m\u001b[0;34m(\u001b[0m\u001b[0mret\u001b[0m\u001b[0;34m[\u001b[0m\u001b[0mi\u001b[0m\u001b[0;34m]\u001b[0m\u001b[0;34m,\u001b[0m \u001b[0my\u001b[0m\u001b[0;34m=\u001b[0m\u001b[0my\u001b[0m\u001b[0;34m)\u001b[0m\u001b[0;34m\u001b[0m\u001b[0;34m\u001b[0m\u001b[0m\n\u001b[0m\u001b[1;32m     88\u001b[0m \u001b[0;34m\u001b[0m\u001b[0m\n\u001b[1;32m     89\u001b[0m         \u001b[0ma\u001b[0m \u001b[0;34m=\u001b[0m \u001b[0;34m(\u001b[0m\u001b[0mx\u001b[0m \u001b[0;34m-\u001b[0m \u001b[0mreference\u001b[0m\u001b[0;34m)\u001b[0m \u001b[0;34m*\u001b[0m \u001b[0;34m(\u001b[0m\u001b[0;36m1\u001b[0m \u001b[0;34m/\u001b[0m \u001b[0mm\u001b[0m\u001b[0;34m)\u001b[0m \u001b[0;34m*\u001b[0m \u001b[0mriemman_approx\u001b[0m\u001b[0;34m\u001b[0m\u001b[0;34m\u001b[0m\u001b[0m\n",
            "\u001b[0;32m/usr/local/lib/python3.8/dist-packages/secml/ml/classifiers/c_classifier.py\u001b[0m in \u001b[0;36mgrad_f_x\u001b[0;34m(self, x, y)\u001b[0m\n\u001b[1;32m    262\u001b[0m         \u001b[0mw\u001b[0m \u001b[0;34m=\u001b[0m \u001b[0mCArray\u001b[0m\u001b[0;34m.\u001b[0m\u001b[0mzeros\u001b[0m\u001b[0;34m(\u001b[0m\u001b[0mself\u001b[0m\u001b[0;34m.\u001b[0m\u001b[0mn_classes\u001b[0m\u001b[0;34m)\u001b[0m\u001b[0;34m\u001b[0m\u001b[0;34m\u001b[0m\u001b[0m\n\u001b[1;32m    263\u001b[0m         \u001b[0mw\u001b[0m\u001b[0;34m[\u001b[0m\u001b[0my\u001b[0m\u001b[0;34m]\u001b[0m \u001b[0;34m=\u001b[0m \u001b[0;36m1\u001b[0m  \u001b[0;31m# one-hot encoding of y\u001b[0m\u001b[0;34m\u001b[0m\u001b[0;34m\u001b[0m\u001b[0m\n\u001b[0;32m--> 264\u001b[0;31m         \u001b[0;32mreturn\u001b[0m \u001b[0mself\u001b[0m\u001b[0;34m.\u001b[0m\u001b[0mgradient\u001b[0m\u001b[0;34m(\u001b[0m\u001b[0mx\u001b[0m\u001b[0;34m,\u001b[0m \u001b[0mw\u001b[0m\u001b[0;34m)\u001b[0m\u001b[0;34m\u001b[0m\u001b[0;34m\u001b[0m\u001b[0m\n\u001b[0m\u001b[1;32m    265\u001b[0m \u001b[0;34m\u001b[0m\u001b[0m\n\u001b[1;32m    266\u001b[0m     \u001b[0;32mdef\u001b[0m \u001b[0mpredict\u001b[0m\u001b[0;34m(\u001b[0m\u001b[0mself\u001b[0m\u001b[0;34m,\u001b[0m \u001b[0mx\u001b[0m\u001b[0;34m,\u001b[0m \u001b[0mreturn_decision_function\u001b[0m\u001b[0;34m=\u001b[0m\u001b[0;32mFalse\u001b[0m\u001b[0;34m)\u001b[0m\u001b[0;34m:\u001b[0m\u001b[0;34m\u001b[0m\u001b[0;34m\u001b[0m\u001b[0m\n",
            "\u001b[0;32m/usr/local/lib/python3.8/dist-packages/secml/ml/c_module.py\u001b[0m in \u001b[0;36mgradient\u001b[0;34m(self, x, w)\u001b[0m\n\u001b[1;32m    334\u001b[0m         \u001b[0;32mif\u001b[0m \u001b[0mself\u001b[0m\u001b[0;34m.\u001b[0m\u001b[0m_grad_requires_forward\u001b[0m\u001b[0;34m:\u001b[0m\u001b[0;34m\u001b[0m\u001b[0;34m\u001b[0m\u001b[0m\n\u001b[1;32m    335\u001b[0m             \u001b[0mself\u001b[0m\u001b[0;34m.\u001b[0m\u001b[0m_forward\u001b[0m\u001b[0;34m(\u001b[0m\u001b[0mx_prc\u001b[0m\u001b[0;34m)\u001b[0m  \u001b[0;31m# this is called only if required\u001b[0m\u001b[0;34m\u001b[0m\u001b[0;34m\u001b[0m\u001b[0m\n\u001b[0;32m--> 336\u001b[0;31m         \u001b[0;32mreturn\u001b[0m \u001b[0mself\u001b[0m\u001b[0;34m.\u001b[0m\u001b[0mbackward\u001b[0m\u001b[0;34m(\u001b[0m\u001b[0mw\u001b[0m\u001b[0;34m)\u001b[0m\u001b[0;34m\u001b[0m\u001b[0;34m\u001b[0m\u001b[0m\n\u001b[0m",
            "\u001b[0;32m/usr/local/lib/python3.8/dist-packages/secml/ml/c_module.py\u001b[0m in \u001b[0;36mbackward\u001b[0;34m(self, w)\u001b[0m\n\u001b[1;32m    240\u001b[0m             \u001b[0;32mraise\u001b[0m \u001b[0mValueError\u001b[0m\u001b[0;34m(\u001b[0m\u001b[0;34m\"Please run forward with caching=True first.\"\u001b[0m\u001b[0;34m)\u001b[0m\u001b[0;34m\u001b[0m\u001b[0;34m\u001b[0m\u001b[0m\n\u001b[1;32m    241\u001b[0m \u001b[0;34m\u001b[0m\u001b[0m\n\u001b[0;32m--> 242\u001b[0;31m         \u001b[0mgrad\u001b[0m \u001b[0;34m=\u001b[0m \u001b[0mself\u001b[0m\u001b[0;34m.\u001b[0m\u001b[0m_backward\u001b[0m\u001b[0;34m(\u001b[0m\u001b[0mw\u001b[0m\u001b[0;34m=\u001b[0m\u001b[0mw\u001b[0m\u001b[0;34m)\u001b[0m\u001b[0;34m\u001b[0m\u001b[0;34m\u001b[0m\u001b[0m\n\u001b[0m\u001b[1;32m    243\u001b[0m \u001b[0;34m\u001b[0m\u001b[0m\n\u001b[1;32m    244\u001b[0m         \u001b[0;32mif\u001b[0m \u001b[0mself\u001b[0m\u001b[0;34m.\u001b[0m\u001b[0mpreprocess\u001b[0m \u001b[0;32mis\u001b[0m \u001b[0;32mnot\u001b[0m \u001b[0;32mNone\u001b[0m\u001b[0;34m:\u001b[0m  \u001b[0;31m# accumulate gradients\u001b[0m\u001b[0;34m\u001b[0m\u001b[0;34m\u001b[0m\u001b[0m\n",
            "\u001b[0;32m/usr/local/lib/python3.8/dist-packages/secml/ml/classifiers/pytorch/c_classifier_pytorch.py\u001b[0m in \u001b[0;36m_backward\u001b[0;34m(self, w)\u001b[0m\n\u001b[1;32m    667\u001b[0m             \u001b[0mself\u001b[0m\u001b[0;34m.\u001b[0m\u001b[0m_cached_s\u001b[0m\u001b[0;34m.\u001b[0m\u001b[0mgrad\u001b[0m\u001b[0;34m.\u001b[0m\u001b[0mdata\u001b[0m\u001b[0;34m.\u001b[0m\u001b[0m_zero\u001b[0m\u001b[0;34m(\u001b[0m\u001b[0;34m)\u001b[0m\u001b[0;34m\u001b[0m\u001b[0;34m\u001b[0m\u001b[0m\n\u001b[1;32m    668\u001b[0m \u001b[0;34m\u001b[0m\u001b[0m\n\u001b[0;32m--> 669\u001b[0;31m         \u001b[0mself\u001b[0m\u001b[0;34m.\u001b[0m\u001b[0m_cached_layer_output\u001b[0m\u001b[0;34m.\u001b[0m\u001b[0mbackward\u001b[0m\u001b[0;34m(\u001b[0m\u001b[0mw\u001b[0m\u001b[0;34m)\u001b[0m\u001b[0;34m\u001b[0m\u001b[0;34m\u001b[0m\u001b[0m\n\u001b[0m\u001b[1;32m    670\u001b[0m \u001b[0;34m\u001b[0m\u001b[0m\n\u001b[1;32m    671\u001b[0m         return self._from_tensor(self._cached_s.grad.data.view(\n",
            "\u001b[0;32m/usr/local/lib/python3.8/dist-packages/torch/_tensor.py\u001b[0m in \u001b[0;36mbackward\u001b[0;34m(self, gradient, retain_graph, create_graph, inputs)\u001b[0m\n\u001b[1;32m    486\u001b[0m                 \u001b[0minputs\u001b[0m\u001b[0;34m=\u001b[0m\u001b[0minputs\u001b[0m\u001b[0;34m,\u001b[0m\u001b[0;34m\u001b[0m\u001b[0;34m\u001b[0m\u001b[0m\n\u001b[1;32m    487\u001b[0m             )\n\u001b[0;32m--> 488\u001b[0;31m         torch.autograd.backward(\n\u001b[0m\u001b[1;32m    489\u001b[0m             \u001b[0mself\u001b[0m\u001b[0;34m,\u001b[0m \u001b[0mgradient\u001b[0m\u001b[0;34m,\u001b[0m \u001b[0mretain_graph\u001b[0m\u001b[0;34m,\u001b[0m \u001b[0mcreate_graph\u001b[0m\u001b[0;34m,\u001b[0m \u001b[0minputs\u001b[0m\u001b[0;34m=\u001b[0m\u001b[0minputs\u001b[0m\u001b[0;34m\u001b[0m\u001b[0;34m\u001b[0m\u001b[0m\n\u001b[1;32m    490\u001b[0m         )\n",
            "\u001b[0;32m/usr/local/lib/python3.8/dist-packages/torch/autograd/__init__.py\u001b[0m in \u001b[0;36mbackward\u001b[0;34m(tensors, grad_tensors, retain_graph, create_graph, grad_variables, inputs)\u001b[0m\n\u001b[1;32m    195\u001b[0m     \u001b[0;31m# some Python versions print out the first line of a multi-line function\u001b[0m\u001b[0;34m\u001b[0m\u001b[0;34m\u001b[0m\u001b[0;34m\u001b[0m\u001b[0m\n\u001b[1;32m    196\u001b[0m     \u001b[0;31m# calls in the traceback and some print out the last line\u001b[0m\u001b[0;34m\u001b[0m\u001b[0;34m\u001b[0m\u001b[0;34m\u001b[0m\u001b[0m\n\u001b[0;32m--> 197\u001b[0;31m     Variable._execution_engine.run_backward(  # Calls into the C++ engine to run the backward pass\n\u001b[0m\u001b[1;32m    198\u001b[0m         \u001b[0mtensors\u001b[0m\u001b[0;34m,\u001b[0m \u001b[0mgrad_tensors_\u001b[0m\u001b[0;34m,\u001b[0m \u001b[0mretain_graph\u001b[0m\u001b[0;34m,\u001b[0m \u001b[0mcreate_graph\u001b[0m\u001b[0;34m,\u001b[0m \u001b[0minputs\u001b[0m\u001b[0;34m,\u001b[0m\u001b[0;34m\u001b[0m\u001b[0;34m\u001b[0m\u001b[0m\n\u001b[1;32m    199\u001b[0m         allow_unreachable=True, accumulate_grad=True)  # Calls into the C++ engine to run the backward pass\n",
            "\u001b[0;31mKeyboardInterrupt\u001b[0m: "
          ]
        }
      ],
      "source": [
        "# compute the explanations w.r.t. the target class\n",
        "explainer = CExplainerIntegratedGradients(clf)\n",
        "expl = explainer.explain(adv_img, y=target_idx, m=750)\n",
        "\n",
        "fig = CFigure(height=4, width=20, fontsize=14)\n",
        "\n",
        "fig.subplot(1, 4, 1)\n",
        "# plot the original image\n",
        "fig = plot_img(fig, img, label=pred_label)\n",
        "\n",
        "# compute the adversarial perturbation \n",
        "adv_noise =  adv_img - img\n",
        "\n",
        "# normalize perturbation for visualization\n",
        "diff_img = img - adv_img\n",
        "diff_img -= diff_img.min()\n",
        "diff_img /= diff_img.max()\n",
        "\n",
        "# plot the adversarial perturbation\n",
        "fig.subplot(1, 4, 2)\n",
        "fig = plot_img(fig, diff_img, label='adversarial perturbation')\n",
        "\n",
        "fig.subplot(1, 4, 3) \n",
        "# plot the adversarial image\n",
        "fig = plot_img(fig, adv_img, label=adv_pred_label)\n",
        "\n",
        "fig.subplot(1, 4, 4)\n",
        "\n",
        "expl = np.transpose(expl.tondarray().reshape((3, 224, 224)), (1, 2, 0))\n",
        "r = np.fabs(expl[:, :, 0])\n",
        "g = np.fabs(expl[:, :, 1])\n",
        "b = np.fabs(expl[:, :, 2])\n",
        "\n",
        "# Calculate the maximum error for each pixel\n",
        "expl = np.maximum(np.maximum(r, g), b)\n",
        "fig.sp.title('explanations')\n",
        "fig.sp.imshow(expl, cmap='seismic')\n",
        "\n",
        "fig.show()"
      ]
    },
    {
      "cell_type": "markdown",
      "metadata": {
        "id": "xR0Hg_h-xaAJ"
      },
      "source": [
        "## Visualize and check the attack optimization\n",
        "\n",
        "To check if the attack has properly converged to a good local minimum, \n",
        "we plot how the loss and the predicted confidence values of the target \n",
        "(solid line) and true class (dotted line) change across the attack iterations."
      ]
    },
    {
      "cell_type": "code",
      "execution_count": null,
      "metadata": {
        "id": "2GVBUQ8-xaAJ",
        "outputId": "7edca9c4-71e8-488a-adc5-6d1c7c74eae0"
      },
      "outputs": [
        {
          "data": {
            "image/png": "[encoded data removed]",
            "text/plain": [
              "<Figure size 720x288 with 2 Axes>"
            ]
          },
          "metadata": {
            "needs_background": "light"
          },
          "output_type": "display_data"
        }
      ],
      "source": [
        "from secml.ml.classifiers.loss import CSoftmax\n",
        "from secml.ml.features.normalization import CNormalizerMinMax\n",
        "\n",
        "n_iter = attack.x_seq.shape[0]\n",
        "itrs = CArray.arange(n_iter)\n",
        "\n",
        "# create a plot that shows the loss and the confidence during the attack iterations\n",
        "# note that the loss is not available for all attacks\n",
        "fig = CFigure(width=10, height=4, fontsize=14, linewidth=2)\n",
        "\n",
        "# apply a linear scaling to have the loss in [0,1]\n",
        "loss = attack.f_seq\n",
        "if loss is not None:\n",
        "    loss = CNormalizerMinMax().fit_transform(CArray(loss).T).ravel()\n",
        "    fig.subplot(1, 2, 1)\n",
        "    fig.sp.xlabel('iteration')\n",
        "    fig.sp.ylabel('loss')\n",
        "    fig.sp.plot(itrs, loss, c='black')\n",
        "\n",
        "# classify all the points in the attack path\n",
        "scores = clf.predict(attack.x_seq, return_decision_function=True)[1]\n",
        "\n",
        "# we apply the softmax to the score to have value in [0,1]\n",
        "scores = CSoftmax().softmax(scores)\n",
        "\n",
        "fig.subplot(1, 2, 2)\n",
        "fig.sp.xlabel('iteration')\n",
        "fig.sp.ylabel('confidence')\n",
        "fig.sp.plot(itrs, scores[:, pred_class], linestyle='--', c='black')\n",
        "fig.sp.plot(itrs, scores[:, target_idx], c='black')\n",
        "\n",
        "fig.tight_layout()\n",
        "fig.show()"
      ]
    }
  ],
  "metadata": {
    "kernelspec": {
      "display_name": "Python 3",
      "language": "python",
      "name": "python3"
    },
    "language_info": {
      "codemirror_mode": {
        "name": "ipython",
        "version": 3
      },
      "file_extension": ".py",
      "mimetype": "text/x-python",
      "name": "python",
      "nbconvert_exporter": "python",
      "pygments_lexer": "ipython3",
      "version": "3.6.12"
    },
    "colab": {
      "provenance": [],
      "include_colab_link": true
    },
    "widgets": {
      "application/vnd.jupyter.widget-state+json": {
        "bba55aa280304ca8a3bc275407293868": {
          "model_module": "@jupyter-widgets/controls",
          "model_name": "HBoxModel",
          "model_module_version": "1.5.0",
          "state": {
            "_dom_classes": [],
            "_model_module": "@jupyter-widgets/controls",
            "_model_module_version": "1.5.0",
            "_model_name": "HBoxModel",
            "_view_count": null,
            "_view_module": "@jupyter-widgets/controls",
            "_view_module_version": "1.5.0",
            "_view_name": "HBoxView",
            "box_style": "",
            "children": [
              "IPY_MODEL_a633d94b9f1b4964b6a9e12858a317bf",
              "IPY_MODEL_c8b0c1a4cc2c4bcc9bb195e6a5357ff4",
              "IPY_MODEL_3a0240539f0c43ed9f58a285e6e9ce2c"
            ],
            "layout": "IPY_MODEL_34fcfb6d14b646ed90253316218cbb2d"
          }
        },
        "a633d94b9f1b4964b6a9e12858a317bf": {
          "model_module": "@jupyter-widgets/controls",
          "model_name": "HTMLModel",
          "model_module_version": "1.5.0",
          "state": {
            "_dom_classes": [],
            "_model_module": "@jupyter-widgets/controls",
            "_model_module_version": "1.5.0",
            "_model_name": "HTMLModel",
            "_view_count": null,
            "_view_module": "@jupyter-widgets/controls",
            "_view_module_version": "1.5.0",
            "_view_name": "HTMLView",
            "description": "",
            "description_tooltip": null,
            "layout": "IPY_MODEL_91dd498158a94196b8bd8d653768d134",
            "placeholder": "​",
            "style": "IPY_MODEL_4d9890a3ded547f9b7ea30507adfdba5",
            "value": "100%"
          }
        },
        "c8b0c1a4cc2c4bcc9bb195e6a5357ff4": {
          "model_module": "@jupyter-widgets/controls",
          "model_name": "FloatProgressModel",
          "model_module_version": "1.5.0",
          "state": {
            "_dom_classes": [],
            "_model_module": "@jupyter-widgets/controls",
            "_model_module_version": "1.5.0",
            "_model_name": "FloatProgressModel",
            "_view_count": null,
            "_view_module": "@jupyter-widgets/controls",
            "_view_module_version": "1.5.0",
            "_view_name": "ProgressView",
            "bar_style": "success",
            "description": "",
            "description_tooltip": null,
            "layout": "IPY_MODEL_b9a0cb18f7f940c0beedeee14b0e2a71",
            "max": 2,
            "min": 0,
            "orientation": "horizontal",
            "style": "IPY_MODEL_8e737b4a10f742ccbd9fd4a1079bbd78",
            "value": 2
          }
        },
        "3a0240539f0c43ed9f58a285e6e9ce2c": {
          "model_module": "@jupyter-widgets/controls",
          "model_name": "HTMLModel",
          "model_module_version": "1.5.0",
          "state": {
            "_dom_classes": [],
            "_model_module": "@jupyter-widgets/controls",
            "_model_module_version": "1.5.0",
            "_model_name": "HTMLModel",
            "_view_count": null,
            "_view_module": "@jupyter-widgets/controls",
            "_view_module_version": "1.5.0",
            "_view_name": "HTMLView",
            "description": "",
            "description_tooltip": null,
            "layout": "IPY_MODEL_5985ea8772554cc1bde5400083e5754b",
            "placeholder": "​",
            "style": "IPY_MODEL_2dbfa5ff0fa04d41953f75b34f8024cc",
            "value": " 2/2 [01:03&lt;00:00, 16.58s/it]"
          }
        },
        "34fcfb6d14b646ed90253316218cbb2d": {
          "model_module": "@jupyter-widgets/base",
          "model_name": "LayoutModel",
          "model_module_version": "1.2.0",
          "state": {
            "_model_module": "@jupyter-widgets/base",
            "_model_module_version": "1.2.0",
            "_model_name": "LayoutModel",
            "_view_count": null,
            "_view_module": "@jupyter-widgets/base",
            "_view_module_version": "1.2.0",
            "_view_name": "LayoutView",
            "align_content": null,
            "align_items": null,
            "align_self": null,
            "border": null,
            "bottom": null,
            "display": null,
            "flex": null,
            "flex_flow": null,
            "grid_area": null,
            "grid_auto_columns": null,
            "grid_auto_flow": null,
            "grid_auto_rows": null,
            "grid_column": null,
            "grid_gap": null,
            "grid_row": null,
            "grid_template_areas": null,
            "grid_template_columns": null,
            "grid_template_rows": null,
            "height": null,
            "justify_content": null,
            "justify_items": null,
            "left": null,
            "margin": null,
            "max_height": null,
            "max_width": null,
            "min_height": null,
            "min_width": null,
            "object_fit": null,
            "object_position": null,
            "order": null,
            "overflow": null,
            "overflow_x": null,
            "overflow_y": null,
            "padding": null,
            "right": null,
            "top": null,
            "visibility": null,
            "width": null
          }
        },
        "91dd498158a94196b8bd8d653768d134": {
          "model_module": "@jupyter-widgets/base",
          "model_name": "LayoutModel",
          "model_module_version": "1.2.0",
          "state": {
            "_model_module": "@jupyter-widgets/base",
            "_model_module_version": "1.2.0",
            "_model_name": "LayoutModel",
            "_view_count": null,
            "_view_module": "@jupyter-widgets/base",
            "_view_module_version": "1.2.0",
            "_view_name": "LayoutView",
            "align_content": null,
            "align_items": null,
            "align_self": null,
            "border": null,
            "bottom": null,
            "display": null,
            "flex": null,
            "flex_flow": null,
            "grid_area": null,
            "grid_auto_columns": null,
            "grid_auto_flow": null,
            "grid_auto_rows": null,
            "grid_column": null,
            "grid_gap": null,
            "grid_row": null,
            "grid_template_areas": null,
            "grid_template_columns": null,
            "grid_template_rows": null,
            "height": null,
            "justify_content": null,
            "justify_items": null,
            "left": null,
            "margin": null,
            "max_height": null,
            "max_width": null,
            "min_height": null,
            "min_width": null,
            "object_fit": null,
            "object_position": null,
            "order": null,
            "overflow": null,
            "overflow_x": null,
            "overflow_y": null,
            "padding": null,
            "right": null,
            "top": null,
            "visibility": null,
            "width": null
          }
        },
        "4d9890a3ded547f9b7ea30507adfdba5": {
          "model_module": "@jupyter-widgets/controls",
          "model_name": "DescriptionStyleModel",
          "model_module_version": "1.5.0",
          "state": {
            "_model_module": "@jupyter-widgets/controls",
            "_model_module_version": "1.5.0",
            "_model_name": "DescriptionStyleModel",
            "_view_count": null,
            "_view_module": "@jupyter-widgets/base",
            "_view_module_version": "1.2.0",
            "_view_name": "StyleView",
            "description_width": ""
          }
        },
        "b9a0cb18f7f940c0beedeee14b0e2a71": {
          "model_module": "@jupyter-widgets/base",
          "model_name": "LayoutModel",
          "model_module_version": "1.2.0",
          "state": {
            "_model_module": "@jupyter-widgets/base",
            "_model_module_version": "1.2.0",
            "_model_name": "LayoutModel",
            "_view_count": null,
            "_view_module": "@jupyter-widgets/base",
            "_view_module_version": "1.2.0",
            "_view_name": "LayoutView",
            "align_content": null,
            "align_items": null,
            "align_self": null,
            "border": null,
            "bottom": null,
            "display": null,
            "flex": null,
            "flex_flow": null,
            "grid_area": null,
            "grid_auto_columns": null,
            "grid_auto_flow": null,
            "grid_auto_rows": null,
            "grid_column": null,
            "grid_gap": null,
            "grid_row": null,
            "grid_template_areas": null,
            "grid_template_columns": null,
            "grid_template_rows": null,
            "height": null,
            "justify_content": null,
            "justify_items": null,
            "left": null,
            "margin": null,
            "max_height": null,
            "max_width": null,
            "min_height": null,
            "min_width": null,
            "object_fit": null,
            "object_position": null,
            "order": null,
            "overflow": null,
            "overflow_x": null,
            "overflow_y": null,
            "padding": null,
            "right": null,
            "top": null,
            "visibility": null,
            "width": null
          }
        },
        "8e737b4a10f742ccbd9fd4a1079bbd78": {
          "model_module": "@jupyter-widgets/controls",
          "model_name": "ProgressStyleModel",
          "model_module_version": "1.5.0",
          "state": {
            "_model_module": "@jupyter-widgets/controls",
            "_model_module_version": "1.5.0",
            "_model_name": "ProgressStyleModel",
            "_view_count": null,
            "_view_module": "@jupyter-widgets/base",
            "_view_module_version": "1.2.0",
            "_view_name": "StyleView",
            "bar_color": null,
            "description_width": ""
          }
        },
        "5985ea8772554cc1bde5400083e5754b": {
          "model_module": "@jupyter-widgets/base",
          "model_name": "LayoutModel",
          "model_module_version": "1.2.0",
          "state": {
            "_model_module": "@jupyter-widgets/base",
            "_model_module_version": "1.2.0",
            "_model_name": "LayoutModel",
            "_view_count": null,
            "_view_module": "@jupyter-widgets/base",
            "_view_module_version": "1.2.0",
            "_view_name": "LayoutView",
            "align_content": null,
            "align_items": null,
            "align_self": null,
            "border": null,
            "bottom": null,
            "display": null,
            "flex": null,
            "flex_flow": null,
            "grid_area": null,
            "grid_auto_columns": null,
            "grid_auto_flow": null,
            "grid_auto_rows": null,
            "grid_column": null,
            "grid_gap": null,
            "grid_row": null,
            "grid_template_areas": null,
            "grid_template_columns": null,
            "grid_template_rows": null,
            "height": null,
            "justify_content": null,
            "justify_items": null,
            "left": null,
            "margin": null,
            "max_height": null,
            "max_width": null,
            "min_height": null,
            "min_width": null,
            "object_fit": null,
            "object_position": null,
            "order": null,
            "overflow": null,
            "overflow_x": null,
            "overflow_y": null,
            "padding": null,
            "right": null,
            "top": null,
            "visibility": null,
            "width": null
          }
        },
        "2dbfa5ff0fa04d41953f75b34f8024cc": {
          "model_module": "@jupyter-widgets/controls",
          "model_name": "DescriptionStyleModel",
          "model_module_version": "1.5.0",
          "state": {
            "_model_module": "@jupyter-widgets/controls",
            "_model_module_version": "1.5.0",
            "_model_name": "DescriptionStyleModel",
            "_view_count": null,
            "_view_module": "@jupyter-widgets/base",
            "_view_module_version": "1.2.0",
            "_view_name": "StyleView",
            "description_width": ""
          }
        },
        "da8eb1a55d0941c484b7666a3bb89747": {
          "model_module": "@jupyter-widgets/controls",
          "model_name": "HBoxModel",
          "model_module_version": "1.5.0",
          "state": {
            "_dom_classes": [],
            "_model_module": "@jupyter-widgets/controls",
            "_model_module_version": "1.5.0",
            "_model_name": "HBoxModel",
            "_view_count": null,
            "_view_module": "@jupyter-widgets/controls",
            "_view_module_version": "1.5.0",
            "_view_name": "HBoxView",
            "box_style": "",
            "children": [
              "IPY_MODEL_16996c65a5ab488f8a05f7cbe00e5283",
              "IPY_MODEL_cd00a6cac0394a7fb81d2d1d45fafe77",
              "IPY_MODEL_a7bf510542ee4f31980636fe5485e98f"
            ],
            "layout": "IPY_MODEL_82f1e534e8164a44b5ff383728914a71"
          }
        },
        "16996c65a5ab488f8a05f7cbe00e5283": {
          "model_module": "@jupyter-widgets/controls",
          "model_name": "HTMLModel",
          "model_module_version": "1.5.0",
          "state": {
            "_dom_classes": [],
            "_model_module": "@jupyter-widgets/controls",
            "_model_module_version": "1.5.0",
            "_model_name": "HTMLModel",
            "_view_count": null,
            "_view_module": "@jupyter-widgets/controls",
            "_view_module_version": "1.5.0",
            "_view_name": "HTMLView",
            "description": "",
            "description_tooltip": null,
            "layout": "IPY_MODEL_bace4521a8c64f989943400ad98de55c",
            "placeholder": "​",
            "style": "IPY_MODEL_cb0d755b45434dedad33a446fa51d779",
            "value": "100%"
          }
        },
        "cd00a6cac0394a7fb81d2d1d45fafe77": {
          "model_module": "@jupyter-widgets/controls",
          "model_name": "FloatProgressModel",
          "model_module_version": "1.5.0",
          "state": {
            "_dom_classes": [],
            "_model_module": "@jupyter-widgets/controls",
            "_model_module_version": "1.5.0",
            "_model_name": "FloatProgressModel",
            "_view_count": null,
            "_view_module": "@jupyter-widgets/controls",
            "_view_module_version": "1.5.0",
            "_view_name": "ProgressView",
            "bar_style": "success",
            "description": "",
            "description_tooltip": null,
            "layout": "IPY_MODEL_ba00ce1815e345d89f4d79ee6ef6103a",
            "max": 46830571,
            "min": 0,
            "orientation": "horizontal",
            "style": "IPY_MODEL_fff3a8074b2542d8ab4bd197a6a435e7",
            "value": 46830571
          }
        },
        "a7bf510542ee4f31980636fe5485e98f": {
          "model_module": "@jupyter-widgets/controls",
          "model_name": "HTMLModel",
          "model_module_version": "1.5.0",
          "state": {
            "_dom_classes": [],
            "_model_module": "@jupyter-widgets/controls",
            "_model_module_version": "1.5.0",
            "_model_name": "HTMLModel",
            "_view_count": null,
            "_view_module": "@jupyter-widgets/controls",
            "_view_module_version": "1.5.0",
            "_view_name": "HTMLView",
            "description": "",
            "description_tooltip": null,
            "layout": "IPY_MODEL_b0245d3f1a56422f8380c3308bf293c9",
            "placeholder": "​",
            "style": "IPY_MODEL_230f1151155f4fce804833e8182c0b75",
            "value": " 44.7M/44.7M [00:00&lt;00:00, 78.4MB/s]"
          }
        },
        "82f1e534e8164a44b5ff383728914a71": {
          "model_module": "@jupyter-widgets/base",
          "model_name": "LayoutModel",
          "model_module_version": "1.2.0",
          "state": {
            "_model_module": "@jupyter-widgets/base",
            "_model_module_version": "1.2.0",
            "_model_name": "LayoutModel",
            "_view_count": null,
            "_view_module": "@jupyter-widgets/base",
            "_view_module_version": "1.2.0",
            "_view_name": "LayoutView",
            "align_content": null,
            "align_items": null,
            "align_self": null,
            "border": null,
            "bottom": null,
            "display": null,
            "flex": null,
            "flex_flow": null,
            "grid_area": null,
            "grid_auto_columns": null,
            "grid_auto_flow": null,
            "grid_auto_rows": null,
            "grid_column": null,
            "grid_gap": null,
            "grid_row": null,
            "grid_template_areas": null,
            "grid_template_columns": null,
            "grid_template_rows": null,
            "height": null,
            "justify_content": null,
            "justify_items": null,
            "left": null,
            "margin": null,
            "max_height": null,
            "max_width": null,
            "min_height": null,
            "min_width": null,
            "object_fit": null,
            "object_position": null,
            "order": null,
            "overflow": null,
            "overflow_x": null,
            "overflow_y": null,
            "padding": null,
            "right": null,
            "top": null,
            "visibility": null,
            "width": null
          }
        },
        "bace4521a8c64f989943400ad98de55c": {
          "model_module": "@jupyter-widgets/base",
          "model_name": "LayoutModel",
          "model_module_version": "1.2.0",
          "state": {
            "_model_module": "@jupyter-widgets/base",
            "_model_module_version": "1.2.0",
            "_model_name": "LayoutModel",
            "_view_count": null,
            "_view_module": "@jupyter-widgets/base",
            "_view_module_version": "1.2.0",
            "_view_name": "LayoutView",
            "align_content": null,
            "align_items": null,
            "align_self": null,
            "border": null,
            "bottom": null,
            "display": null,
            "flex": null,
            "flex_flow": null,
            "grid_area": null,
            "grid_auto_columns": null,
            "grid_auto_flow": null,
            "grid_auto_rows": null,
            "grid_column": null,
            "grid_gap": null,
            "grid_row": null,
            "grid_template_areas": null,
            "grid_template_columns": null,
            "grid_template_rows": null,
            "height": null,
            "justify_content": null,
            "justify_items": null,
            "left": null,
            "margin": null,
            "max_height": null,
            "max_width": null,
            "min_height": null,
            "min_width": null,
            "object_fit": null,
            "object_position": null,
            "order": null,
            "overflow": null,
            "overflow_x": null,
            "overflow_y": null,
            "padding": null,
            "right": null,
            "top": null,
            "visibility": null,
            "width": null
          }
        },
        "cb0d755b45434dedad33a446fa51d779": {
          "model_module": "@jupyter-widgets/controls",
          "model_name": "DescriptionStyleModel",
          "model_module_version": "1.5.0",
          "state": {
            "_model_module": "@jupyter-widgets/controls",
            "_model_module_version": "1.5.0",
            "_model_name": "DescriptionStyleModel",
            "_view_count": null,
            "_view_module": "@jupyter-widgets/base",
            "_view_module_version": "1.2.0",
            "_view_name": "StyleView",
            "description_width": ""
          }
        },
        "ba00ce1815e345d89f4d79ee6ef6103a": {
          "model_module": "@jupyter-widgets/base",
          "model_name": "LayoutModel",
          "model_module_version": "1.2.0",
          "state": {
            "_model_module": "@jupyter-widgets/base",
            "_model_module_version": "1.2.0",
            "_model_name": "LayoutModel",
            "_view_count": null,
            "_view_module": "@jupyter-widgets/base",
            "_view_module_version": "1.2.0",
            "_view_name": "LayoutView",
            "align_content": null,
            "align_items": null,
            "align_self": null,
            "border": null,
            "bottom": null,
            "display": null,
            "flex": null,
            "flex_flow": null,
            "grid_area": null,
            "grid_auto_columns": null,
            "grid_auto_flow": null,
            "grid_auto_rows": null,
            "grid_column": null,
            "grid_gap": null,
            "grid_row": null,
            "grid_template_areas": null,
            "grid_template_columns": null,
            "grid_template_rows": null,
            "height": null,
            "justify_content": null,
            "justify_items": null,
            "left": null,
            "margin": null,
            "max_height": null,
            "max_width": null,
            "min_height": null,
            "min_width": null,
            "object_fit": null,
            "object_position": null,
            "order": null,
            "overflow": null,
            "overflow_x": null,
            "overflow_y": null,
            "padding": null,
            "right": null,
            "top": null,
            "visibility": null,
            "width": null
          }
        },
        "fff3a8074b2542d8ab4bd197a6a435e7": {
          "model_module": "@jupyter-widgets/controls",
          "model_name": "ProgressStyleModel",
          "model_module_version": "1.5.0",
          "state": {
            "_model_module": "@jupyter-widgets/controls",
            "_model_module_version": "1.5.0",
            "_model_name": "ProgressStyleModel",
            "_view_count": null,
            "_view_module": "@jupyter-widgets/base",
            "_view_module_version": "1.2.0",
            "_view_name": "StyleView",
            "bar_color": null,
            "description_width": ""
          }
        },
        "b0245d3f1a56422f8380c3308bf293c9": {
          "model_module": "@jupyter-widgets/base",
          "model_name": "LayoutModel",
          "model_module_version": "1.2.0",
          "state": {
            "_model_module": "@jupyter-widgets/base",
            "_model_module_version": "1.2.0",
            "_model_name": "LayoutModel",
            "_view_count": null,
            "_view_module": "@jupyter-widgets/base",
            "_view_module_version": "1.2.0",
            "_view_name": "LayoutView",
            "align_content": null,
            "align_items": null,
            "align_self": null,
            "border": null,
            "bottom": null,
            "display": null,
            "flex": null,
            "flex_flow": null,
            "grid_area": null,
            "grid_auto_columns": null,
            "grid_auto_flow": null,
            "grid_auto_rows": null,
            "grid_column": null,
            "grid_gap": null,
            "grid_row": null,
            "grid_template_areas": null,
            "grid_template_columns": null,
            "grid_template_rows": null,
            "height": null,
            "justify_content": null,
            "justify_items": null,
            "left": null,
            "margin": null,
            "max_height": null,
            "max_width": null,
            "min_height": null,
            "min_width": null,
            "object_fit": null,
            "object_position": null,
            "order": null,
            "overflow": null,
            "overflow_x": null,
            "overflow_y": null,
            "padding": null,
            "right": null,
            "top": null,
            "visibility": null,
            "width": null
          }
        },
        "230f1151155f4fce804833e8182c0b75": {
          "model_module": "@jupyter-widgets/controls",
          "model_name": "DescriptionStyleModel",
          "model_module_version": "1.5.0",
          "state": {
            "_model_module": "@jupyter-widgets/controls",
            "_model_module_version": "1.5.0",
            "_model_name": "DescriptionStyleModel",
            "_view_count": null,
            "_view_module": "@jupyter-widgets/base",
            "_view_module_version": "1.2.0",
            "_view_name": "StyleView",
            "description_width": ""
          }
        },
        "63b4b8a57a3142268b3f2900c9f920b5": {
          "model_module": "@jupyter-widgets/controls",
          "model_name": "HBoxModel",
          "model_module_version": "1.5.0",
          "state": {
            "_dom_classes": [],
            "_model_module": "@jupyter-widgets/controls",
            "_model_module_version": "1.5.0",
            "_model_name": "HBoxModel",
            "_view_count": null,
            "_view_module": "@jupyter-widgets/controls",
            "_view_module_version": "1.5.0",
            "_view_name": "HBoxView",
            "box_style": "",
            "children": [
              "IPY_MODEL_edc3425918c440a0a1dde20f1e28a630",
              "IPY_MODEL_aa7f67b80a5f4258aaee966ee6eb777e",
              "IPY_MODEL_4e7ee0692bd64923bc2c885d3efb404c"
            ],
            "layout": "IPY_MODEL_91914d7468174e488724f6fc7ca8c2cd"
          }
        },
        "edc3425918c440a0a1dde20f1e28a630": {
          "model_module": "@jupyter-widgets/controls",
          "model_name": "HTMLModel",
          "model_module_version": "1.5.0",
          "state": {
            "_dom_classes": [],
            "_model_module": "@jupyter-widgets/controls",
            "_model_module_version": "1.5.0",
            "_model_name": "HTMLModel",
            "_view_count": null,
            "_view_module": "@jupyter-widgets/controls",
            "_view_module_version": "1.5.0",
            "_view_name": "HTMLView",
            "description": "",
            "description_tooltip": null,
            "layout": "IPY_MODEL_f9138c9c6ae446ea8cb5d25bf390a4f7",
            "placeholder": "​",
            "style": "IPY_MODEL_24b1633ce35343de862663200f4703d6",
            "value": "100%"
          }
        },
        "aa7f67b80a5f4258aaee966ee6eb777e": {
          "model_module": "@jupyter-widgets/controls",
          "model_name": "FloatProgressModel",
          "model_module_version": "1.5.0",
          "state": {
            "_dom_classes": [],
            "_model_module": "@jupyter-widgets/controls",
            "_model_module_version": "1.5.0",
            "_model_name": "FloatProgressModel",
            "_view_count": null,
            "_view_module": "@jupyter-widgets/controls",
            "_view_module_version": "1.5.0",
            "_view_name": "ProgressView",
            "bar_style": "success",
            "description": "",
            "description_tooltip": null,
            "layout": "IPY_MODEL_66633d5444774eb9a5c7c750ceb063c1",
            "max": 91,
            "min": 0,
            "orientation": "horizontal",
            "style": "IPY_MODEL_a13d82e7a1c54d189c4660104ea41006",
            "value": 91
          }
        },
        "4e7ee0692bd64923bc2c885d3efb404c": {
          "model_module": "@jupyter-widgets/controls",
          "model_name": "HTMLModel",
          "model_module_version": "1.5.0",
          "state": {
            "_dom_classes": [],
            "_model_module": "@jupyter-widgets/controls",
            "_model_module_version": "1.5.0",
            "_model_name": "HTMLModel",
            "_view_count": null,
            "_view_module": "@jupyter-widgets/controls",
            "_view_module_version": "1.5.0",
            "_view_name": "HTMLView",
            "description": "",
            "description_tooltip": null,
            "layout": "IPY_MODEL_1823a2d45a8545bb8a4446131b95d87a",
            "placeholder": "​",
            "style": "IPY_MODEL_8d016a511ef3467fb9c7c19291e6bc15",
            "value": " 91/91 [04:27&lt;00:00,  3.06s/it]"
          }
        },
        "91914d7468174e488724f6fc7ca8c2cd": {
          "model_module": "@jupyter-widgets/base",
          "model_name": "LayoutModel",
          "model_module_version": "1.2.0",
          "state": {
            "_model_module": "@jupyter-widgets/base",
            "_model_module_version": "1.2.0",
            "_model_name": "LayoutModel",
            "_view_count": null,
            "_view_module": "@jupyter-widgets/base",
            "_view_module_version": "1.2.0",
            "_view_name": "LayoutView",
            "align_content": null,
            "align_items": null,
            "align_self": null,
            "border": null,
            "bottom": null,
            "display": null,
            "flex": null,
            "flex_flow": null,
            "grid_area": null,
            "grid_auto_columns": null,
            "grid_auto_flow": null,
            "grid_auto_rows": null,
            "grid_column": null,
            "grid_gap": null,
            "grid_row": null,
            "grid_template_areas": null,
            "grid_template_columns": null,
            "grid_template_rows": null,
            "height": null,
            "justify_content": null,
            "justify_items": null,
            "left": null,
            "margin": null,
            "max_height": null,
            "max_width": null,
            "min_height": null,
            "min_width": null,
            "object_fit": null,
            "object_position": null,
            "order": null,
            "overflow": null,
            "overflow_x": null,
            "overflow_y": null,
            "padding": null,
            "right": null,
            "top": null,
            "visibility": null,
            "width": null
          }
        },
        "f9138c9c6ae446ea8cb5d25bf390a4f7": {
          "model_module": "@jupyter-widgets/base",
          "model_name": "LayoutModel",
          "model_module_version": "1.2.0",
          "state": {
            "_model_module": "@jupyter-widgets/base",
            "_model_module_version": "1.2.0",
            "_model_name": "LayoutModel",
            "_view_count": null,
            "_view_module": "@jupyter-widgets/base",
            "_view_module_version": "1.2.0",
            "_view_name": "LayoutView",
            "align_content": null,
            "align_items": null,
            "align_self": null,
            "border": null,
            "bottom": null,
            "display": null,
            "flex": null,
            "flex_flow": null,
            "grid_area": null,
            "grid_auto_columns": null,
            "grid_auto_flow": null,
            "grid_auto_rows": null,
            "grid_column": null,
            "grid_gap": null,
            "grid_row": null,
            "grid_template_areas": null,
            "grid_template_columns": null,
            "grid_template_rows": null,
            "height": null,
            "justify_content": null,
            "justify_items": null,
            "left": null,
            "margin": null,
            "max_height": null,
            "max_width": null,
            "min_height": null,
            "min_width": null,
            "object_fit": null,
            "object_position": null,
            "order": null,
            "overflow": null,
            "overflow_x": null,
            "overflow_y": null,
            "padding": null,
            "right": null,
            "top": null,
            "visibility": null,
            "width": null
          }
        },
        "24b1633ce35343de862663200f4703d6": {
          "model_module": "@jupyter-widgets/controls",
          "model_name": "DescriptionStyleModel",
          "model_module_version": "1.5.0",
          "state": {
            "_model_module": "@jupyter-widgets/controls",
            "_model_module_version": "1.5.0",
            "_model_name": "DescriptionStyleModel",
            "_view_count": null,
            "_view_module": "@jupyter-widgets/base",
            "_view_module_version": "1.2.0",
            "_view_name": "StyleView",
            "description_width": ""
          }
        },
        "66633d5444774eb9a5c7c750ceb063c1": {
          "model_module": "@jupyter-widgets/base",
          "model_name": "LayoutModel",
          "model_module_version": "1.2.0",
          "state": {
            "_model_module": "@jupyter-widgets/base",
            "_model_module_version": "1.2.0",
            "_model_name": "LayoutModel",
            "_view_count": null,
            "_view_module": "@jupyter-widgets/base",
            "_view_module_version": "1.2.0",
            "_view_name": "LayoutView",
            "align_content": null,
            "align_items": null,
            "align_self": null,
            "border": null,
            "bottom": null,
            "display": null,
            "flex": null,
            "flex_flow": null,
            "grid_area": null,
            "grid_auto_columns": null,
            "grid_auto_flow": null,
            "grid_auto_rows": null,
            "grid_column": null,
            "grid_gap": null,
            "grid_row": null,
            "grid_template_areas": null,
            "grid_template_columns": null,
            "grid_template_rows": null,
            "height": null,
            "justify_content": null,
            "justify_items": null,
            "left": null,
            "margin": null,
            "max_height": null,
            "max_width": null,
            "min_height": null,
            "min_width": null,
            "object_fit": null,
            "object_position": null,
            "order": null,
            "overflow": null,
            "overflow_x": null,
            "overflow_y": null,
            "padding": null,
            "right": null,
            "top": null,
            "visibility": null,
            "width": null
          }
        },
        "a13d82e7a1c54d189c4660104ea41006": {
          "model_module": "@jupyter-widgets/controls",
          "model_name": "ProgressStyleModel",
          "model_module_version": "1.5.0",
          "state": {
            "_model_module": "@jupyter-widgets/controls",
            "_model_module_version": "1.5.0",
            "_model_name": "ProgressStyleModel",
            "_view_count": null,
            "_view_module": "@jupyter-widgets/base",
            "_view_module_version": "1.2.0",
            "_view_name": "StyleView",
            "bar_color": null,
            "description_width": ""
          }
        },
        "1823a2d45a8545bb8a4446131b95d87a": {
          "model_module": "@jupyter-widgets/base",
          "model_name": "LayoutModel",
          "model_module_version": "1.2.0",
          "state": {
            "_model_module": "@jupyter-widgets/base",
            "_model_module_version": "1.2.0",
            "_model_name": "LayoutModel",
            "_view_count": null,
            "_view_module": "@jupyter-widgets/base",
            "_view_module_version": "1.2.0",
            "_view_name": "LayoutView",
            "align_content": null,
            "align_items": null,
            "align_self": null,
            "border": null,
            "bottom": null,
            "display": null,
            "flex": null,
            "flex_flow": null,
            "grid_area": null,
            "grid_auto_columns": null,
            "grid_auto_flow": null,
            "grid_auto_rows": null,
            "grid_column": null,
            "grid_gap": null,
            "grid_row": null,
            "grid_template_areas": null,
            "grid_template_columns": null,
            "grid_template_rows": null,
            "height": null,
            "justify_content": null,
            "justify_items": null,
            "left": null,
            "margin": null,
            "max_height": null,
            "max_width": null,
            "min_height": null,
            "min_width": null,
            "object_fit": null,
            "object_position": null,
            "order": null,
            "overflow": null,
            "overflow_x": null,
            "overflow_y": null,
            "padding": null,
            "right": null,
            "top": null,
            "visibility": null,
            "width": null
          }
        },
        "8d016a511ef3467fb9c7c19291e6bc15": {
          "model_module": "@jupyter-widgets/controls",
          "model_name": "DescriptionStyleModel",
          "model_module_version": "1.5.0",
          "state": {
            "_model_module": "@jupyter-widgets/controls",
            "_model_module_version": "1.5.0",
            "_model_name": "DescriptionStyleModel",
            "_view_count": null,
            "_view_module": "@jupyter-widgets/base",
            "_view_module_version": "1.2.0",
            "_view_name": "StyleView",
            "description_width": ""
          }
        }
      }
    },
    "accelerator": "GPU",
    "gpuClass": "standard"
  },
  "nbformat": 4,
  "nbformat_minor": 0
}